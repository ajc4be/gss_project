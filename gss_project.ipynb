{
  "nbformat": 4,
  "nbformat_minor": 0,
  "metadata": {
    "colab": {
      "provenance": [],
      "include_colab_link": true
    },
    "kernelspec": {
      "name": "python3",
      "display_name": "Python 3"
    },
    "language_info": {
      "name": "python"
    }
  },
  "cells": [
    {
      "cell_type": "markdown",
      "metadata": {
        "id": "view-in-github",
        "colab_type": "text"
      },
      "source": [
        "<a href=\"https://colab.research.google.com/github/torrancefredell/gss_project/blob/main/gss_project.ipynb\" target=\"_parent\"><img src=\"https://colab.research.google.com/assets/colab-badge.svg\" alt=\"Open In Colab\"/></a>"
      ]
    },
    {
      "cell_type": "markdown",
      "source": [
        "<font size=\"5\">**GSS PROJECT**</font>\n",
        "\n",
        "Research question: How does occupational prestige and work-life balance influence marital satisfaction among married individuals in the US?"
      ],
      "metadata": {
        "id": "DgS4q0CDaHp7"
      }
    },
    {
      "cell_type": "code",
      "execution_count": 1,
      "metadata": {
        "colab": {
          "base_uri": "https://localhost:8080/"
        },
        "id": "cixA96zHONcS",
        "outputId": "7bf342ef-c16f-434b-800d-2b4465c9f5e1"
      },
      "outputs": [
        {
          "output_type": "stream",
          "name": "stdout",
          "text": [
            "Cloning into 'project_gss'...\n",
            "remote: Enumerating objects: 23, done.\u001b[K\n",
            "remote: Counting objects: 100% (8/8), done.\u001b[K\n",
            "remote: Compressing objects: 100% (7/7), done.\u001b[K\n",
            "remote: Total 23 (delta 6), reused 1 (delta 1), pack-reused 15\u001b[K\n",
            "Receiving objects: 100% (23/23), 23.94 MiB | 18.57 MiB/s, done.\n",
            "Resolving deltas: 100% (6/6), done.\n"
          ]
        }
      ],
      "source": [
        "! git clone https://github.com/DS3001/project_gss"
      ]
    },
    {
      "cell_type": "code",
      "source": [
        "import pandas as pd\n",
        "\n",
        "var_list = ['wrkstat', 'occ10', 'prestige', 'whatslf2', 'marital', 'divorce', 'martype',\n",
        "            'sppres10', 'prestg10', 'spocc10', 'hapmar', 'age', 'educ', 'sex', 'income16', 'income', 'prestg105plus', 'sphrs1', 'hrs1'] # List of variables you want to save\n",
        "output_filename = 'selected_gss_data.csv' # Name of the file you want to save the data to\n",
        "\n",
        "modes = ['w','a'] # Has write mode and append mode\n",
        "phase = 0 # Starts in write mode; after one iteration of loop, switches to append mode\n",
        "\n",
        "for k in range(3): # for each chunk of the data\n",
        "    url = 'https://github.com/DS3001/project_gss/raw/main/gss_chunk_' + str(1+k) + '.parquet' # Create url to the chunk to be processed\n",
        "    print(url) # Check the url is correct\n",
        "    df = pd.read_parquet(url) # Download this chunk of data\n",
        "    print(df.head()) # Visually inspect the first few rows\n",
        "    df.loc[:,var_list].to_csv(output_filename, # specifies target file to save the chunk to\n",
        "                              mode=modes[phase], # control write versus append\n",
        "                              header=var_list, # variable names\n",
        "                              index=False) # no row index saved\n",
        "    phase = 1 # Switch from write mode to append mode"
      ],
      "metadata": {
        "colab": {
          "base_uri": "https://localhost:8080/"
        },
        "id": "WMgDziswPh--",
        "outputId": "31716165-f891-40ab-cef1-51c9d20410b5"
      },
      "execution_count": 2,
      "outputs": [
        {
          "output_type": "stream",
          "name": "stdout",
          "text": [
            "https://github.com/DS3001/project_gss/raw/main/gss_chunk_1.parquet\n",
            "   year  id            wrkstat  hrs1  hrs2 evwork    occ  prestige  \\\n",
            "0  1972   1  working full time   NaN   NaN    NaN  205.0      50.0   \n",
            "1  1972   2            retired   NaN   NaN    yes  441.0      45.0   \n",
            "2  1972   3  working part time   NaN   NaN    NaN  270.0      44.0   \n",
            "3  1972   4  working full time   NaN   NaN    NaN    1.0      57.0   \n",
            "4  1972   5      keeping house   NaN   NaN    yes  385.0      40.0   \n",
            "\n",
            "         wrkslf wrkgovt  ...  agehef12 agehef13 agehef14  hompoph wtssps_nea  \\\n",
            "0  someone else     NaN  ...       NaN      NaN      NaN      NaN        NaN   \n",
            "1  someone else     NaN  ...       NaN      NaN      NaN      NaN        NaN   \n",
            "2  someone else     NaN  ...       NaN      NaN      NaN      NaN        NaN   \n",
            "3  someone else     NaN  ...       NaN      NaN      NaN      NaN        NaN   \n",
            "4  someone else     NaN  ...       NaN      NaN      NaN      NaN        NaN   \n",
            "\n",
            "   wtssnrps_nea  wtssps_next wtssnrps_next wtsscomp wtsscompnr  \n",
            "0           NaN          NaN           NaN   0.4446        NaN  \n",
            "1           NaN          NaN           NaN   0.8893        NaN  \n",
            "2           NaN          NaN           NaN   0.8893        NaN  \n",
            "3           NaN          NaN           NaN   0.8893        NaN  \n",
            "4           NaN          NaN           NaN   0.8893        NaN  \n",
            "\n",
            "[5 rows x 6694 columns]\n",
            "https://github.com/DS3001/project_gss/raw/main/gss_chunk_2.parquet\n",
            "   year   id            wrkstat  hrs1  hrs2 evwork    occ  prestige  \\\n",
            "0  1989  775            retired   NaN   NaN    yes  540.0      36.0   \n",
            "1  1989  776  working full time  40.0   NaN    NaN  925.0      36.0   \n",
            "2  1989  777            retired   NaN   NaN    yes   80.0      61.0   \n",
            "3  1989  778  working full time  44.0   NaN    NaN  912.0      26.0   \n",
            "4  1989  779            retired   NaN   NaN    yes  690.0      32.0   \n",
            "\n",
            "         wrkslf wrkgovt  ...  agehef12 agehef13 agehef14  hompoph wtssps_nea  \\\n",
            "0  someone else     NaN  ...       NaN      NaN      NaN      NaN        NaN   \n",
            "1  someone else     NaN  ...       NaN      NaN      NaN      NaN        NaN   \n",
            "2  someone else     NaN  ...       NaN      NaN      NaN      NaN        NaN   \n",
            "3  someone else     NaN  ...       NaN      NaN      NaN      NaN        NaN   \n",
            "4  someone else     NaN  ...       NaN      NaN      NaN      NaN        NaN   \n",
            "\n",
            "   wtssnrps_nea  wtssps_next wtssnrps_next  wtsscomp wtsscompnr  \n",
            "0           NaN          NaN           NaN  1.295069        NaN  \n",
            "1           NaN          NaN           NaN  0.483624        NaN  \n",
            "2           NaN          NaN           NaN  0.407988        NaN  \n",
            "3           NaN          NaN           NaN  1.225988        NaN  \n",
            "4           NaN          NaN           NaN  0.504302        NaN  \n",
            "\n",
            "[5 rows x 6694 columns]\n",
            "https://github.com/DS3001/project_gss/raw/main/gss_chunk_3.parquet\n",
            "   year    id            wrkstat  hrs1  hrs2 evwork  occ  prestige  \\\n",
            "0  2006  1751  working full time  40.0   NaN    NaN  NaN       NaN   \n",
            "1  2006  1752          in school   NaN   NaN    yes  NaN       NaN   \n",
            "2  2006  1753  working full time  35.0   NaN    NaN  NaN       NaN   \n",
            "3  2006  1754  working full time  50.0   NaN    NaN  NaN       NaN   \n",
            "4  2006  1755  working full time  40.0   NaN    NaN  NaN       NaN   \n",
            "\n",
            "         wrkslf     wrkgovt  ...  agehef12 agehef13 agehef14  hompoph  \\\n",
            "0  someone else  government  ...       NaN      NaN      NaN      NaN   \n",
            "1  someone else     private  ...       NaN      NaN      NaN      NaN   \n",
            "2  someone else  government  ...       NaN      NaN      NaN      NaN   \n",
            "3  someone else  government  ...       NaN      NaN      NaN      NaN   \n",
            "4  someone else     private  ...       NaN      NaN      NaN      NaN   \n",
            "\n",
            "  wtssps_nea  wtssnrps_nea  wtssps_next wtssnrps_next  wtsscomp wtsscompnr  \n",
            "0        NaN           NaN          NaN           NaN  1.079141   0.961150  \n",
            "1        NaN           NaN          NaN           NaN  7.673834   6.641571  \n",
            "2        NaN           NaN          NaN           NaN  0.584663   0.512145  \n",
            "3        NaN           NaN          NaN           NaN  0.715731   0.637592  \n",
            "4        NaN           NaN          NaN           NaN  1.094831   0.956094  \n",
            "\n",
            "[5 rows x 6694 columns]\n"
          ]
        }
      ]
    },
    {
      "cell_type": "code",
      "source": [
        "df = pd.read_csv('selected_gss_data.csv')\n",
        "df.tail(3)"
      ],
      "metadata": {
        "colab": {
          "base_uri": "https://localhost:8080/",
          "height": 407
        },
        "id": "1oD3jYyNbxCU",
        "outputId": "d1719734-7c74-4e75-f3fc-6a3c21bc09f6"
      },
      "execution_count": 3,
      "outputs": [
        {
          "output_type": "stream",
          "name": "stderr",
          "text": [
            "<ipython-input-3-b526b26be8d6>:1: DtypeWarning: Columns (2,7,8,11,12,16,17,18) have mixed types. Specify dtype option on import or set low_memory=False.\n",
            "  df = pd.read_csv('selected_gss_data.csv')\n"
          ]
        },
        {
          "output_type": "execute_result",
          "data": {
            "text/plain": [
              "                 wrkstat                                  occ10 prestige  \\\n",
              "72389  working full time                 respiratory therapists      NaN   \n",
              "72390  working full time  elementary and middle school teachers      NaN   \n",
              "72391  working full time        forest and conservation workers      NaN   \n",
              "\n",
              "                                                whatslf2        marital  \\\n",
              "72389  other (agriculture, construction, service, gov...  never married   \n",
              "72390  other (agriculture, construction, service, gov...        married   \n",
              "72391  other (agriculture, construction, service, gov...        married   \n",
              "\n",
              "      divorce                             martype sppres10 prestg10  \\\n",
              "72389     NaN                                 NaN     64.0     62.0   \n",
              "72390      no  marriage between a man and a woman     65.0     61.0   \n",
              "72391      no  marriage between a man and a woman     38.0     42.0   \n",
              "\n",
              "                              spocc10        hapmar   age  educ     sex  \\\n",
              "72389                             NaN           NaN  32.0  15.0    male   \n",
              "72390                 civil engineers    very happy  49.0  17.0  female   \n",
              "72391  other teachers and instructors  pretty happy  50.0  20.0    male   \n",
              "\n",
              "                   income16           income prestg105plus sphrs1  hrs1  \n",
              "72389  $130,000 to $149,999  $25,000 or more           NaN    NaN  38.0  \n",
              "72390  $150,000 to $169,999  $25,000 or more           NaN   45.0  40.0  \n",
              "72391   $90,000 to $109,999  $25,000 or more           NaN   40.0  40.0  "
            ],
            "text/html": [
              "\n",
              "  <div id=\"df-048d13d4-2ef6-4231-805e-786b6c7d4e22\" class=\"colab-df-container\">\n",
              "    <div>\n",
              "<style scoped>\n",
              "    .dataframe tbody tr th:only-of-type {\n",
              "        vertical-align: middle;\n",
              "    }\n",
              "\n",
              "    .dataframe tbody tr th {\n",
              "        vertical-align: top;\n",
              "    }\n",
              "\n",
              "    .dataframe thead th {\n",
              "        text-align: right;\n",
              "    }\n",
              "</style>\n",
              "<table border=\"1\" class=\"dataframe\">\n",
              "  <thead>\n",
              "    <tr style=\"text-align: right;\">\n",
              "      <th></th>\n",
              "      <th>wrkstat</th>\n",
              "      <th>occ10</th>\n",
              "      <th>prestige</th>\n",
              "      <th>whatslf2</th>\n",
              "      <th>marital</th>\n",
              "      <th>divorce</th>\n",
              "      <th>martype</th>\n",
              "      <th>sppres10</th>\n",
              "      <th>prestg10</th>\n",
              "      <th>spocc10</th>\n",
              "      <th>hapmar</th>\n",
              "      <th>age</th>\n",
              "      <th>educ</th>\n",
              "      <th>sex</th>\n",
              "      <th>income16</th>\n",
              "      <th>income</th>\n",
              "      <th>prestg105plus</th>\n",
              "      <th>sphrs1</th>\n",
              "      <th>hrs1</th>\n",
              "    </tr>\n",
              "  </thead>\n",
              "  <tbody>\n",
              "    <tr>\n",
              "      <th>72389</th>\n",
              "      <td>working full time</td>\n",
              "      <td>respiratory therapists</td>\n",
              "      <td>NaN</td>\n",
              "      <td>other (agriculture, construction, service, gov...</td>\n",
              "      <td>never married</td>\n",
              "      <td>NaN</td>\n",
              "      <td>NaN</td>\n",
              "      <td>64.0</td>\n",
              "      <td>62.0</td>\n",
              "      <td>NaN</td>\n",
              "      <td>NaN</td>\n",
              "      <td>32.0</td>\n",
              "      <td>15.0</td>\n",
              "      <td>male</td>\n",
              "      <td>$130,000 to $149,999</td>\n",
              "      <td>$25,000 or more</td>\n",
              "      <td>NaN</td>\n",
              "      <td>NaN</td>\n",
              "      <td>38.0</td>\n",
              "    </tr>\n",
              "    <tr>\n",
              "      <th>72390</th>\n",
              "      <td>working full time</td>\n",
              "      <td>elementary and middle school teachers</td>\n",
              "      <td>NaN</td>\n",
              "      <td>other (agriculture, construction, service, gov...</td>\n",
              "      <td>married</td>\n",
              "      <td>no</td>\n",
              "      <td>marriage between a man and a woman</td>\n",
              "      <td>65.0</td>\n",
              "      <td>61.0</td>\n",
              "      <td>civil engineers</td>\n",
              "      <td>very happy</td>\n",
              "      <td>49.0</td>\n",
              "      <td>17.0</td>\n",
              "      <td>female</td>\n",
              "      <td>$150,000 to $169,999</td>\n",
              "      <td>$25,000 or more</td>\n",
              "      <td>NaN</td>\n",
              "      <td>45.0</td>\n",
              "      <td>40.0</td>\n",
              "    </tr>\n",
              "    <tr>\n",
              "      <th>72391</th>\n",
              "      <td>working full time</td>\n",
              "      <td>forest and conservation workers</td>\n",
              "      <td>NaN</td>\n",
              "      <td>other (agriculture, construction, service, gov...</td>\n",
              "      <td>married</td>\n",
              "      <td>no</td>\n",
              "      <td>marriage between a man and a woman</td>\n",
              "      <td>38.0</td>\n",
              "      <td>42.0</td>\n",
              "      <td>other teachers and instructors</td>\n",
              "      <td>pretty happy</td>\n",
              "      <td>50.0</td>\n",
              "      <td>20.0</td>\n",
              "      <td>male</td>\n",
              "      <td>$90,000 to $109,999</td>\n",
              "      <td>$25,000 or more</td>\n",
              "      <td>NaN</td>\n",
              "      <td>40.0</td>\n",
              "      <td>40.0</td>\n",
              "    </tr>\n",
              "  </tbody>\n",
              "</table>\n",
              "</div>\n",
              "    <div class=\"colab-df-buttons\">\n",
              "\n",
              "  <div class=\"colab-df-container\">\n",
              "    <button class=\"colab-df-convert\" onclick=\"convertToInteractive('df-048d13d4-2ef6-4231-805e-786b6c7d4e22')\"\n",
              "            title=\"Convert this dataframe to an interactive table.\"\n",
              "            style=\"display:none;\">\n",
              "\n",
              "  <svg xmlns=\"http://www.w3.org/2000/svg\" height=\"24px\" viewBox=\"0 -960 960 960\">\n",
              "    <path d=\"M120-120v-720h720v720H120Zm60-500h600v-160H180v160Zm220 220h160v-160H400v160Zm0 220h160v-160H400v160ZM180-400h160v-160H180v160Zm440 0h160v-160H620v160ZM180-180h160v-160H180v160Zm440 0h160v-160H620v160Z\"/>\n",
              "  </svg>\n",
              "    </button>\n",
              "\n",
              "  <style>\n",
              "    .colab-df-container {\n",
              "      display:flex;\n",
              "      gap: 12px;\n",
              "    }\n",
              "\n",
              "    .colab-df-convert {\n",
              "      background-color: #E8F0FE;\n",
              "      border: none;\n",
              "      border-radius: 50%;\n",
              "      cursor: pointer;\n",
              "      display: none;\n",
              "      fill: #1967D2;\n",
              "      height: 32px;\n",
              "      padding: 0 0 0 0;\n",
              "      width: 32px;\n",
              "    }\n",
              "\n",
              "    .colab-df-convert:hover {\n",
              "      background-color: #E2EBFA;\n",
              "      box-shadow: 0px 1px 2px rgba(60, 64, 67, 0.3), 0px 1px 3px 1px rgba(60, 64, 67, 0.15);\n",
              "      fill: #174EA6;\n",
              "    }\n",
              "\n",
              "    .colab-df-buttons div {\n",
              "      margin-bottom: 4px;\n",
              "    }\n",
              "\n",
              "    [theme=dark] .colab-df-convert {\n",
              "      background-color: #3B4455;\n",
              "      fill: #D2E3FC;\n",
              "    }\n",
              "\n",
              "    [theme=dark] .colab-df-convert:hover {\n",
              "      background-color: #434B5C;\n",
              "      box-shadow: 0px 1px 3px 1px rgba(0, 0, 0, 0.15);\n",
              "      filter: drop-shadow(0px 1px 2px rgba(0, 0, 0, 0.3));\n",
              "      fill: #FFFFFF;\n",
              "    }\n",
              "  </style>\n",
              "\n",
              "    <script>\n",
              "      const buttonEl =\n",
              "        document.querySelector('#df-048d13d4-2ef6-4231-805e-786b6c7d4e22 button.colab-df-convert');\n",
              "      buttonEl.style.display =\n",
              "        google.colab.kernel.accessAllowed ? 'block' : 'none';\n",
              "\n",
              "      async function convertToInteractive(key) {\n",
              "        const element = document.querySelector('#df-048d13d4-2ef6-4231-805e-786b6c7d4e22');\n",
              "        const dataTable =\n",
              "          await google.colab.kernel.invokeFunction('convertToInteractive',\n",
              "                                                    [key], {});\n",
              "        if (!dataTable) return;\n",
              "\n",
              "        const docLinkHtml = 'Like what you see? Visit the ' +\n",
              "          '<a target=\"_blank\" href=https://colab.research.google.com/notebooks/data_table.ipynb>data table notebook</a>'\n",
              "          + ' to learn more about interactive tables.';\n",
              "        element.innerHTML = '';\n",
              "        dataTable['output_type'] = 'display_data';\n",
              "        await google.colab.output.renderOutput(dataTable, element);\n",
              "        const docLink = document.createElement('div');\n",
              "        docLink.innerHTML = docLinkHtml;\n",
              "        element.appendChild(docLink);\n",
              "      }\n",
              "    </script>\n",
              "  </div>\n",
              "\n",
              "\n",
              "<div id=\"df-938835dd-e05d-4ca0-9e52-ebd0382dbc2d\">\n",
              "  <button class=\"colab-df-quickchart\" onclick=\"quickchart('df-938835dd-e05d-4ca0-9e52-ebd0382dbc2d')\"\n",
              "            title=\"Suggest charts\"\n",
              "            style=\"display:none;\">\n",
              "\n",
              "<svg xmlns=\"http://www.w3.org/2000/svg\" height=\"24px\"viewBox=\"0 0 24 24\"\n",
              "     width=\"24px\">\n",
              "    <g>\n",
              "        <path d=\"M19 3H5c-1.1 0-2 .9-2 2v14c0 1.1.9 2 2 2h14c1.1 0 2-.9 2-2V5c0-1.1-.9-2-2-2zM9 17H7v-7h2v7zm4 0h-2V7h2v10zm4 0h-2v-4h2v4z\"/>\n",
              "    </g>\n",
              "</svg>\n",
              "  </button>\n",
              "\n",
              "<style>\n",
              "  .colab-df-quickchart {\n",
              "      --bg-color: #E8F0FE;\n",
              "      --fill-color: #1967D2;\n",
              "      --hover-bg-color: #E2EBFA;\n",
              "      --hover-fill-color: #174EA6;\n",
              "      --disabled-fill-color: #AAA;\n",
              "      --disabled-bg-color: #DDD;\n",
              "  }\n",
              "\n",
              "  [theme=dark] .colab-df-quickchart {\n",
              "      --bg-color: #3B4455;\n",
              "      --fill-color: #D2E3FC;\n",
              "      --hover-bg-color: #434B5C;\n",
              "      --hover-fill-color: #FFFFFF;\n",
              "      --disabled-bg-color: #3B4455;\n",
              "      --disabled-fill-color: #666;\n",
              "  }\n",
              "\n",
              "  .colab-df-quickchart {\n",
              "    background-color: var(--bg-color);\n",
              "    border: none;\n",
              "    border-radius: 50%;\n",
              "    cursor: pointer;\n",
              "    display: none;\n",
              "    fill: var(--fill-color);\n",
              "    height: 32px;\n",
              "    padding: 0;\n",
              "    width: 32px;\n",
              "  }\n",
              "\n",
              "  .colab-df-quickchart:hover {\n",
              "    background-color: var(--hover-bg-color);\n",
              "    box-shadow: 0 1px 2px rgba(60, 64, 67, 0.3), 0 1px 3px 1px rgba(60, 64, 67, 0.15);\n",
              "    fill: var(--button-hover-fill-color);\n",
              "  }\n",
              "\n",
              "  .colab-df-quickchart-complete:disabled,\n",
              "  .colab-df-quickchart-complete:disabled:hover {\n",
              "    background-color: var(--disabled-bg-color);\n",
              "    fill: var(--disabled-fill-color);\n",
              "    box-shadow: none;\n",
              "  }\n",
              "\n",
              "  .colab-df-spinner {\n",
              "    border: 2px solid var(--fill-color);\n",
              "    border-color: transparent;\n",
              "    border-bottom-color: var(--fill-color);\n",
              "    animation:\n",
              "      spin 1s steps(1) infinite;\n",
              "  }\n",
              "\n",
              "  @keyframes spin {\n",
              "    0% {\n",
              "      border-color: transparent;\n",
              "      border-bottom-color: var(--fill-color);\n",
              "      border-left-color: var(--fill-color);\n",
              "    }\n",
              "    20% {\n",
              "      border-color: transparent;\n",
              "      border-left-color: var(--fill-color);\n",
              "      border-top-color: var(--fill-color);\n",
              "    }\n",
              "    30% {\n",
              "      border-color: transparent;\n",
              "      border-left-color: var(--fill-color);\n",
              "      border-top-color: var(--fill-color);\n",
              "      border-right-color: var(--fill-color);\n",
              "    }\n",
              "    40% {\n",
              "      border-color: transparent;\n",
              "      border-right-color: var(--fill-color);\n",
              "      border-top-color: var(--fill-color);\n",
              "    }\n",
              "    60% {\n",
              "      border-color: transparent;\n",
              "      border-right-color: var(--fill-color);\n",
              "    }\n",
              "    80% {\n",
              "      border-color: transparent;\n",
              "      border-right-color: var(--fill-color);\n",
              "      border-bottom-color: var(--fill-color);\n",
              "    }\n",
              "    90% {\n",
              "      border-color: transparent;\n",
              "      border-bottom-color: var(--fill-color);\n",
              "    }\n",
              "  }\n",
              "</style>\n",
              "\n",
              "  <script>\n",
              "    async function quickchart(key) {\n",
              "      const quickchartButtonEl =\n",
              "        document.querySelector('#' + key + ' button');\n",
              "      quickchartButtonEl.disabled = true;  // To prevent multiple clicks.\n",
              "      quickchartButtonEl.classList.add('colab-df-spinner');\n",
              "      try {\n",
              "        const charts = await google.colab.kernel.invokeFunction(\n",
              "            'suggestCharts', [key], {});\n",
              "      } catch (error) {\n",
              "        console.error('Error during call to suggestCharts:', error);\n",
              "      }\n",
              "      quickchartButtonEl.classList.remove('colab-df-spinner');\n",
              "      quickchartButtonEl.classList.add('colab-df-quickchart-complete');\n",
              "    }\n",
              "    (() => {\n",
              "      let quickchartButtonEl =\n",
              "        document.querySelector('#df-938835dd-e05d-4ca0-9e52-ebd0382dbc2d button');\n",
              "      quickchartButtonEl.style.display =\n",
              "        google.colab.kernel.accessAllowed ? 'block' : 'none';\n",
              "    })();\n",
              "  </script>\n",
              "</div>\n",
              "    </div>\n",
              "  </div>\n"
            ],
            "application/vnd.google.colaboratory.intrinsic+json": {
              "type": "dataframe",
              "repr_error": "0"
            }
          },
          "metadata": {},
          "execution_count": 3
        }
      ]
    },
    {
      "cell_type": "code",
      "source": [
        "df.shape, '\\n'"
      ],
      "metadata": {
        "colab": {
          "base_uri": "https://localhost:8080/"
        },
        "id": "0yXoXt1rcY-c",
        "outputId": "b0288c35-b6ef-4d20-b3d4-fbfabd6a103a"
      },
      "execution_count": 4,
      "outputs": [
        {
          "output_type": "execute_result",
          "data": {
            "text/plain": [
              "((72392, 19), '\\n')"
            ]
          },
          "metadata": {},
          "execution_count": 4
        }
      ]
    },
    {
      "cell_type": "code",
      "source": [
        "df.dtypes"
      ],
      "metadata": {
        "colab": {
          "base_uri": "https://localhost:8080/"
        },
        "id": "YKzvOg1dezlD",
        "outputId": "56f06b80-5890-48b9-b949-5c10d411095a"
      },
      "execution_count": 5,
      "outputs": [
        {
          "output_type": "execute_result",
          "data": {
            "text/plain": [
              "wrkstat          object\n",
              "occ10            object\n",
              "prestige         object\n",
              "whatslf2         object\n",
              "marital          object\n",
              "divorce          object\n",
              "martype          object\n",
              "sppres10         object\n",
              "prestg10         object\n",
              "spocc10          object\n",
              "hapmar           object\n",
              "age              object\n",
              "educ             object\n",
              "sex              object\n",
              "income16         object\n",
              "income           object\n",
              "prestg105plus    object\n",
              "sphrs1           object\n",
              "hrs1             object\n",
              "dtype: object"
            ]
          },
          "metadata": {},
          "execution_count": 5
        }
      ]
    },
    {
      "cell_type": "code",
      "source": [
        "df.rename(columns={\"wrkstat\": \"work_status\", \"occ10\": \"occupation\", \"whatslf2\": \"workplace_classification\", \"marital\": \"marital_status\", \"martype\": \"marriage_type\", \"sppres10\": \"spouse_prestige\", \"prestg10\": \"respondent_prestige\", \"spocc10\": \"spouse_occupation\", \"hapmar\": \"marriage_happiness\", \"sphrs1\": \"spouse_hours_worked\", \"hrs1\": \"respondent_hours_worked\"}, inplace = True)"
      ],
      "metadata": {
        "id": "7CXvseSbyhar"
      },
      "execution_count": 6,
      "outputs": []
    },
    {
      "cell_type": "code",
      "source": [
        "spouse_prestige = df['spouse_prestige']\n",
        "prestige = df['prestige']\n",
        "respondent_prestige = df['respondent_prestige']\n",
        "income16 = df['income16']\n",
        "income = df['income']\n",
        "work_status = df['work_status']\n",
        "occupation = df['occupation']\n",
        "workplace_classification = df['workplace_classification']\n",
        "marital_status = df['marital_status']\n",
        "divorce = df['divorce']\n",
        "marriage_type = df['marriage_type']\n",
        "spouse_occupation = df['spouse_occupation']\n",
        "marriage_happiness = df['marriage_happiness']\n",
        "age = df['age']\n",
        "educ = df['educ']\n",
        "sex = df['sex']\n",
        "prestg105plus = df['prestg105plus']\n",
        "spouse_hours_worked = df['spouse_hours_worked']\n",
        "respondent_hours_worked = df['respondent_hours_worked']"
      ],
      "metadata": {
        "id": "XJhfFjFzfGFL"
      },
      "execution_count": 7,
      "outputs": []
    },
    {
      "cell_type": "code",
      "source": [
        "missing_sppres10_count = spouse_prestige.isna().sum()\n",
        "missing_prestige_count = prestige.isna().sum()\n",
        "missing_prestg10_count = respondent_prestige.isna().sum()\n",
        "missing_income16_count = income16.isna().sum()\n",
        "missing_income_count = income.isna().sum()\n",
        "missing_wrkstat_count = work_status.isna().sum()\n",
        "missing_occ10_count = occupation.isna().sum()\n",
        "missing_whatslf2_count = workplace_classification.isna().sum()\n",
        "missing_marital_count = marital_status.isna().sum()\n",
        "missing_divorce_count = divorce.isna().sum()\n",
        "missing_martype_count = marriage_type.isna().sum()\n",
        "missing_spocc10_count = spouse_occupation.isna().sum()\n",
        "missing_hapmar_count = marriage_happiness.isna().sum()\n",
        "missing_age_count = age.isna().sum()\n",
        "missing_educ_count = educ.isna().sum()\n",
        "missing_sex_count = sex.isna().sum()\n",
        "missing_prestg105plus_count = prestg105plus.isna().sum()\n",
        "missing_spouse_hours_worked_count = spouse_hours_worked.isna().sum()\n",
        "missing_respondent_hours_worked_count = respondent_hours_worked.isna().sum()"
      ],
      "metadata": {
        "id": "kAjTA3QVnJq8"
      },
      "execution_count": 8,
      "outputs": []
    },
    {
      "cell_type": "code",
      "source": [
        "row_count = len(df)\n",
        "\n",
        "percent_sppres10 = (missing_sppres10_count / row_count) * 100\n",
        "print(percent_sppres10, \"% of the spouse_prestige rows are NaN\")\n",
        "\n",
        "percent_prestige = (missing_prestige_count / row_count) * 100\n",
        "print(percent_prestige, \"% of the prestige rows are NaN\")\n",
        "\n",
        "percent_prestg10 = (missing_prestg10_count / row_count) * 100\n",
        "print(percent_prestg10, \"% of the respondent_prestige rows are NaN\")\n",
        "\n",
        "percent_income16 = (missing_income16_count / row_count) * 100\n",
        "print(percent_income16, \"% of the income16 rows are NaN\")\n",
        "\n",
        "percent_income = (missing_income_count / row_count) * 100\n",
        "print(percent_income, \"% of the income rows are NaN\")\n",
        "\n",
        "percent_wrkstat = (missing_wrkstat_count / row_count) * 100\n",
        "print(percent_wrkstat, \"% of the work_status rows are NaN\")\n",
        "\n",
        "percent_occ10 = (missing_occ10_count / row_count) * 100\n",
        "print(percent_occ10, \"% of the occupation rows are NaN\")\n",
        "\n",
        "percent_whatslf2 = (missing_whatslf2_count / row_count) * 100\n",
        "print(percent_whatslf2, \"% of the workplace_classification rows are NaN\")\n",
        "\n",
        "percent_marital = (missing_marital_count / row_count) * 100\n",
        "print(percent_marital, \"% of the marital_status rows are NaN\")\n",
        "\n",
        "percent_divorce = (missing_divorce_count / row_count) * 100\n",
        "print(percent_divorce, \"% of the divorce rows are NaN\")\n",
        "\n",
        "percent_martype = (missing_martype_count / row_count) * 100\n",
        "print(percent_martype, \"% of the marriage_type rows are NaN\")\n",
        "\n",
        "percent_spocc10 = (missing_spocc10_count / row_count) * 100\n",
        "print(percent_spocc10, \"% of the spouse_occupation rows are NaN\")\n",
        "\n",
        "percent_hapmar = (missing_hapmar_count / row_count) * 100\n",
        "print(percent_hapmar, \"% of the marriage_happiness rows are NaN\")\n",
        "\n",
        "percent_age = (missing_age_count / row_count) * 100\n",
        "print(percent_age, \"% of the age rows are NaN\")\n",
        "\n",
        "percent_educ = (missing_educ_count / row_count) * 100\n",
        "print(percent_educ, \"% of the educ rows are NaN\")\n",
        "\n",
        "percent_sex = (missing_sex_count / row_count) * 100\n",
        "print(percent_sex, \"% of the sex rows are NaN\")\n",
        "\n",
        "percent_prestg105plus = (missing_prestg105plus_count / row_count) * 100\n",
        "print(percent_prestg105plus, \"% of the prestg105plus rows are NaN\")\n",
        "\n",
        "percent_spouse_hours_worked = (missing_spouse_hours_worked_count / row_count) * 100\n",
        "print(percent_spouse_hours_worked, \"% of the spouse_hours_worked rows are NaN\")\n",
        "\n",
        "percent_respondent_hours_worked = (missing_respondent_hours_worked_count / row_count) * 100\n",
        "print(percent_respondent_hours_worked, \"% of the respondent_hours_worked rows are NaN\")"
      ],
      "metadata": {
        "colab": {
          "base_uri": "https://localhost:8080/"
        },
        "id": "JtR_pzuQnTbI",
        "outputId": "4b634761-3a67-40f2-e3ae-68ec022cfa62"
      },
      "execution_count": 9,
      "outputs": [
        {
          "output_type": "stream",
          "name": "stdout",
          "text": [
            "51.93805945408333 % of the spouse_prestige rows are NaN\n",
            "66.47557741186871 % of the prestige rows are NaN\n",
            "7.102994806055918 % of the respondent_prestige rows are NaN\n",
            "84.29522599182229 % of the income16 rows are NaN\n",
            "12.36462592551663 % of the income rows are NaN\n",
            "0.04972925185103326 % of the work_status rows are NaN\n",
            "7.097469333628024 % of the occupation rows are NaN\n",
            "96.97894795004973 % of the workplace_classification rows are NaN\n",
            "0.07044977345563046 % of the marital_status rows are NaN\n",
            "39.073378273842415 % of the divorce rows are NaN\n",
            "92.9881754890043 % of the marriage_type rows are NaN\n",
            "52.31241021107304 % of the spouse_occupation rows are NaN\n",
            "53.03210299480605 % of the marriage_happiness rows are NaN\n",
            "1.0622720742623495 % of the age rows are NaN\n",
            "0.36329981213393747 % of the educ rows are NaN\n",
            "0.15471322798099238 % of the sex rows are NaN\n",
            "17.047463808155598 % of the prestg105plus rows are NaN\n",
            "68.58078240689579 % of the spouse_hours_worked rows are NaN\n",
            "42.5875787379821 % of the respondent_hours_worked rows are NaN\n"
          ]
        }
      ]
    },
    {
      "cell_type": "markdown",
      "source": [
        "Variables to use:\n",
        "- prestg10 -- respondent's job prestige\n",
        "- income -- family income\n",
        "- wkrstat -- work status last week\n",
        "- occ10 -- respondent's occupation\n",
        "- marital -- marital status\n",
        "- age -- respondent's age\n",
        "- educ -- respondent's education\n",
        "- sex -- respondent's sex\n",
        "- POTENTIALLY: spocc10 (respondent's spouse's occupation), sppres10 (respondent's spouse's occupation prestige), hapmar (marriage happiness) -- these have a lot of values missing but are important for our research question nonetheless\n"
      ],
      "metadata": {
        "id": "VmMwi8D3oFqN"
      }
    },
    {
      "cell_type": "code",
      "source": [
        "df['spouse_prestige'] = pd.to_numeric(df['spouse_prestige'], errors = 'coerce')\n",
        "df['prestige'] = pd.to_numeric(df['prestige'], errors = 'coerce')\n",
        "df['respondent_prestige'] = pd.to_numeric(df['respondent_prestige'], errors = 'coerce')\n",
        "df['age'] = pd.to_numeric(df['age'], errors = 'coerce')\n",
        "df['educ'] = pd.to_numeric(df['educ'], errors = 'coerce')\n",
        "df['prestg105plus'] = pd.to_numeric(df['prestg105plus'], errors = 'coerce')\n",
        "df['spouse_hours_worked'] = pd.to_numeric(df['spouse_hours_worked'], errors = 'coerce')\n",
        "df['respondent_hours_worked'] = pd.to_numeric(df['respondent_hours_worked'], errors = 'coerce')"
      ],
      "metadata": {
        "id": "2IprJkwKsyYf"
      },
      "execution_count": 10,
      "outputs": []
    },
    {
      "cell_type": "code",
      "source": [
        "df.dtypes"
      ],
      "metadata": {
        "colab": {
          "base_uri": "https://localhost:8080/"
        },
        "id": "41Ux3uV6to-e",
        "outputId": "cd61106e-a50e-41f6-986c-e89ce39ead42"
      },
      "execution_count": 11,
      "outputs": [
        {
          "output_type": "execute_result",
          "data": {
            "text/plain": [
              "work_status                  object\n",
              "occupation                   object\n",
              "prestige                    float64\n",
              "workplace_classification     object\n",
              "marital_status               object\n",
              "divorce                      object\n",
              "marriage_type                object\n",
              "spouse_prestige             float64\n",
              "respondent_prestige         float64\n",
              "spouse_occupation            object\n",
              "marriage_happiness           object\n",
              "age                         float64\n",
              "educ                        float64\n",
              "sex                          object\n",
              "income16                     object\n",
              "income                       object\n",
              "prestg105plus               float64\n",
              "spouse_hours_worked         float64\n",
              "respondent_hours_worked     float64\n",
              "dtype: object"
            ]
          },
          "metadata": {},
          "execution_count": 11
        }
      ]
    },
    {
      "cell_type": "code",
      "source": [
        "df.loc[df['work_status'] == 'wrkstat']"
      ],
      "metadata": {
        "colab": {
          "base_uri": "https://localhost:8080/",
          "height": 132
        },
        "id": "-GjTpUei3X0O",
        "outputId": "c3ba669b-bd29-4e93-c4da-03bc909d6a42"
      },
      "execution_count": 12,
      "outputs": [
        {
          "output_type": "execute_result",
          "data": {
            "text/plain": [
              "      work_status occupation  prestige workplace_classification  \\\n",
              "24130     wrkstat      occ10       NaN                 whatslf2   \n",
              "48261     wrkstat      occ10       NaN                 whatslf2   \n",
              "\n",
              "      marital_status  divorce marriage_type  spouse_prestige  \\\n",
              "24130        marital  divorce       martype              NaN   \n",
              "48261        marital  divorce       martype              NaN   \n",
              "\n",
              "       respondent_prestige spouse_occupation marriage_happiness  age  educ  \\\n",
              "24130                  NaN           spocc10             hapmar  NaN   NaN   \n",
              "48261                  NaN           spocc10             hapmar  NaN   NaN   \n",
              "\n",
              "       sex  income16  income  prestg105plus  spouse_hours_worked  \\\n",
              "24130  sex  income16  income            NaN                  NaN   \n",
              "48261  sex  income16  income            NaN                  NaN   \n",
              "\n",
              "       respondent_hours_worked  \n",
              "24130                      NaN  \n",
              "48261                      NaN  "
            ],
            "text/html": [
              "\n",
              "  <div id=\"df-188b6d0c-04c3-4670-becd-813c332e6c28\" class=\"colab-df-container\">\n",
              "    <div>\n",
              "<style scoped>\n",
              "    .dataframe tbody tr th:only-of-type {\n",
              "        vertical-align: middle;\n",
              "    }\n",
              "\n",
              "    .dataframe tbody tr th {\n",
              "        vertical-align: top;\n",
              "    }\n",
              "\n",
              "    .dataframe thead th {\n",
              "        text-align: right;\n",
              "    }\n",
              "</style>\n",
              "<table border=\"1\" class=\"dataframe\">\n",
              "  <thead>\n",
              "    <tr style=\"text-align: right;\">\n",
              "      <th></th>\n",
              "      <th>work_status</th>\n",
              "      <th>occupation</th>\n",
              "      <th>prestige</th>\n",
              "      <th>workplace_classification</th>\n",
              "      <th>marital_status</th>\n",
              "      <th>divorce</th>\n",
              "      <th>marriage_type</th>\n",
              "      <th>spouse_prestige</th>\n",
              "      <th>respondent_prestige</th>\n",
              "      <th>spouse_occupation</th>\n",
              "      <th>marriage_happiness</th>\n",
              "      <th>age</th>\n",
              "      <th>educ</th>\n",
              "      <th>sex</th>\n",
              "      <th>income16</th>\n",
              "      <th>income</th>\n",
              "      <th>prestg105plus</th>\n",
              "      <th>spouse_hours_worked</th>\n",
              "      <th>respondent_hours_worked</th>\n",
              "    </tr>\n",
              "  </thead>\n",
              "  <tbody>\n",
              "    <tr>\n",
              "      <th>24130</th>\n",
              "      <td>wrkstat</td>\n",
              "      <td>occ10</td>\n",
              "      <td>NaN</td>\n",
              "      <td>whatslf2</td>\n",
              "      <td>marital</td>\n",
              "      <td>divorce</td>\n",
              "      <td>martype</td>\n",
              "      <td>NaN</td>\n",
              "      <td>NaN</td>\n",
              "      <td>spocc10</td>\n",
              "      <td>hapmar</td>\n",
              "      <td>NaN</td>\n",
              "      <td>NaN</td>\n",
              "      <td>sex</td>\n",
              "      <td>income16</td>\n",
              "      <td>income</td>\n",
              "      <td>NaN</td>\n",
              "      <td>NaN</td>\n",
              "      <td>NaN</td>\n",
              "    </tr>\n",
              "    <tr>\n",
              "      <th>48261</th>\n",
              "      <td>wrkstat</td>\n",
              "      <td>occ10</td>\n",
              "      <td>NaN</td>\n",
              "      <td>whatslf2</td>\n",
              "      <td>marital</td>\n",
              "      <td>divorce</td>\n",
              "      <td>martype</td>\n",
              "      <td>NaN</td>\n",
              "      <td>NaN</td>\n",
              "      <td>spocc10</td>\n",
              "      <td>hapmar</td>\n",
              "      <td>NaN</td>\n",
              "      <td>NaN</td>\n",
              "      <td>sex</td>\n",
              "      <td>income16</td>\n",
              "      <td>income</td>\n",
              "      <td>NaN</td>\n",
              "      <td>NaN</td>\n",
              "      <td>NaN</td>\n",
              "    </tr>\n",
              "  </tbody>\n",
              "</table>\n",
              "</div>\n",
              "    <div class=\"colab-df-buttons\">\n",
              "\n",
              "  <div class=\"colab-df-container\">\n",
              "    <button class=\"colab-df-convert\" onclick=\"convertToInteractive('df-188b6d0c-04c3-4670-becd-813c332e6c28')\"\n",
              "            title=\"Convert this dataframe to an interactive table.\"\n",
              "            style=\"display:none;\">\n",
              "\n",
              "  <svg xmlns=\"http://www.w3.org/2000/svg\" height=\"24px\" viewBox=\"0 -960 960 960\">\n",
              "    <path d=\"M120-120v-720h720v720H120Zm60-500h600v-160H180v160Zm220 220h160v-160H400v160Zm0 220h160v-160H400v160ZM180-400h160v-160H180v160Zm440 0h160v-160H620v160ZM180-180h160v-160H180v160Zm440 0h160v-160H620v160Z\"/>\n",
              "  </svg>\n",
              "    </button>\n",
              "\n",
              "  <style>\n",
              "    .colab-df-container {\n",
              "      display:flex;\n",
              "      gap: 12px;\n",
              "    }\n",
              "\n",
              "    .colab-df-convert {\n",
              "      background-color: #E8F0FE;\n",
              "      border: none;\n",
              "      border-radius: 50%;\n",
              "      cursor: pointer;\n",
              "      display: none;\n",
              "      fill: #1967D2;\n",
              "      height: 32px;\n",
              "      padding: 0 0 0 0;\n",
              "      width: 32px;\n",
              "    }\n",
              "\n",
              "    .colab-df-convert:hover {\n",
              "      background-color: #E2EBFA;\n",
              "      box-shadow: 0px 1px 2px rgba(60, 64, 67, 0.3), 0px 1px 3px 1px rgba(60, 64, 67, 0.15);\n",
              "      fill: #174EA6;\n",
              "    }\n",
              "\n",
              "    .colab-df-buttons div {\n",
              "      margin-bottom: 4px;\n",
              "    }\n",
              "\n",
              "    [theme=dark] .colab-df-convert {\n",
              "      background-color: #3B4455;\n",
              "      fill: #D2E3FC;\n",
              "    }\n",
              "\n",
              "    [theme=dark] .colab-df-convert:hover {\n",
              "      background-color: #434B5C;\n",
              "      box-shadow: 0px 1px 3px 1px rgba(0, 0, 0, 0.15);\n",
              "      filter: drop-shadow(0px 1px 2px rgba(0, 0, 0, 0.3));\n",
              "      fill: #FFFFFF;\n",
              "    }\n",
              "  </style>\n",
              "\n",
              "    <script>\n",
              "      const buttonEl =\n",
              "        document.querySelector('#df-188b6d0c-04c3-4670-becd-813c332e6c28 button.colab-df-convert');\n",
              "      buttonEl.style.display =\n",
              "        google.colab.kernel.accessAllowed ? 'block' : 'none';\n",
              "\n",
              "      async function convertToInteractive(key) {\n",
              "        const element = document.querySelector('#df-188b6d0c-04c3-4670-becd-813c332e6c28');\n",
              "        const dataTable =\n",
              "          await google.colab.kernel.invokeFunction('convertToInteractive',\n",
              "                                                    [key], {});\n",
              "        if (!dataTable) return;\n",
              "\n",
              "        const docLinkHtml = 'Like what you see? Visit the ' +\n",
              "          '<a target=\"_blank\" href=https://colab.research.google.com/notebooks/data_table.ipynb>data table notebook</a>'\n",
              "          + ' to learn more about interactive tables.';\n",
              "        element.innerHTML = '';\n",
              "        dataTable['output_type'] = 'display_data';\n",
              "        await google.colab.output.renderOutput(dataTable, element);\n",
              "        const docLink = document.createElement('div');\n",
              "        docLink.innerHTML = docLinkHtml;\n",
              "        element.appendChild(docLink);\n",
              "      }\n",
              "    </script>\n",
              "  </div>\n",
              "\n",
              "\n",
              "<div id=\"df-a849d90c-095f-4dac-9815-304587b5736f\">\n",
              "  <button class=\"colab-df-quickchart\" onclick=\"quickchart('df-a849d90c-095f-4dac-9815-304587b5736f')\"\n",
              "            title=\"Suggest charts\"\n",
              "            style=\"display:none;\">\n",
              "\n",
              "<svg xmlns=\"http://www.w3.org/2000/svg\" height=\"24px\"viewBox=\"0 0 24 24\"\n",
              "     width=\"24px\">\n",
              "    <g>\n",
              "        <path d=\"M19 3H5c-1.1 0-2 .9-2 2v14c0 1.1.9 2 2 2h14c1.1 0 2-.9 2-2V5c0-1.1-.9-2-2-2zM9 17H7v-7h2v7zm4 0h-2V7h2v10zm4 0h-2v-4h2v4z\"/>\n",
              "    </g>\n",
              "</svg>\n",
              "  </button>\n",
              "\n",
              "<style>\n",
              "  .colab-df-quickchart {\n",
              "      --bg-color: #E8F0FE;\n",
              "      --fill-color: #1967D2;\n",
              "      --hover-bg-color: #E2EBFA;\n",
              "      --hover-fill-color: #174EA6;\n",
              "      --disabled-fill-color: #AAA;\n",
              "      --disabled-bg-color: #DDD;\n",
              "  }\n",
              "\n",
              "  [theme=dark] .colab-df-quickchart {\n",
              "      --bg-color: #3B4455;\n",
              "      --fill-color: #D2E3FC;\n",
              "      --hover-bg-color: #434B5C;\n",
              "      --hover-fill-color: #FFFFFF;\n",
              "      --disabled-bg-color: #3B4455;\n",
              "      --disabled-fill-color: #666;\n",
              "  }\n",
              "\n",
              "  .colab-df-quickchart {\n",
              "    background-color: var(--bg-color);\n",
              "    border: none;\n",
              "    border-radius: 50%;\n",
              "    cursor: pointer;\n",
              "    display: none;\n",
              "    fill: var(--fill-color);\n",
              "    height: 32px;\n",
              "    padding: 0;\n",
              "    width: 32px;\n",
              "  }\n",
              "\n",
              "  .colab-df-quickchart:hover {\n",
              "    background-color: var(--hover-bg-color);\n",
              "    box-shadow: 0 1px 2px rgba(60, 64, 67, 0.3), 0 1px 3px 1px rgba(60, 64, 67, 0.15);\n",
              "    fill: var(--button-hover-fill-color);\n",
              "  }\n",
              "\n",
              "  .colab-df-quickchart-complete:disabled,\n",
              "  .colab-df-quickchart-complete:disabled:hover {\n",
              "    background-color: var(--disabled-bg-color);\n",
              "    fill: var(--disabled-fill-color);\n",
              "    box-shadow: none;\n",
              "  }\n",
              "\n",
              "  .colab-df-spinner {\n",
              "    border: 2px solid var(--fill-color);\n",
              "    border-color: transparent;\n",
              "    border-bottom-color: var(--fill-color);\n",
              "    animation:\n",
              "      spin 1s steps(1) infinite;\n",
              "  }\n",
              "\n",
              "  @keyframes spin {\n",
              "    0% {\n",
              "      border-color: transparent;\n",
              "      border-bottom-color: var(--fill-color);\n",
              "      border-left-color: var(--fill-color);\n",
              "    }\n",
              "    20% {\n",
              "      border-color: transparent;\n",
              "      border-left-color: var(--fill-color);\n",
              "      border-top-color: var(--fill-color);\n",
              "    }\n",
              "    30% {\n",
              "      border-color: transparent;\n",
              "      border-left-color: var(--fill-color);\n",
              "      border-top-color: var(--fill-color);\n",
              "      border-right-color: var(--fill-color);\n",
              "    }\n",
              "    40% {\n",
              "      border-color: transparent;\n",
              "      border-right-color: var(--fill-color);\n",
              "      border-top-color: var(--fill-color);\n",
              "    }\n",
              "    60% {\n",
              "      border-color: transparent;\n",
              "      border-right-color: var(--fill-color);\n",
              "    }\n",
              "    80% {\n",
              "      border-color: transparent;\n",
              "      border-right-color: var(--fill-color);\n",
              "      border-bottom-color: var(--fill-color);\n",
              "    }\n",
              "    90% {\n",
              "      border-color: transparent;\n",
              "      border-bottom-color: var(--fill-color);\n",
              "    }\n",
              "  }\n",
              "</style>\n",
              "\n",
              "  <script>\n",
              "    async function quickchart(key) {\n",
              "      const quickchartButtonEl =\n",
              "        document.querySelector('#' + key + ' button');\n",
              "      quickchartButtonEl.disabled = true;  // To prevent multiple clicks.\n",
              "      quickchartButtonEl.classList.add('colab-df-spinner');\n",
              "      try {\n",
              "        const charts = await google.colab.kernel.invokeFunction(\n",
              "            'suggestCharts', [key], {});\n",
              "      } catch (error) {\n",
              "        console.error('Error during call to suggestCharts:', error);\n",
              "      }\n",
              "      quickchartButtonEl.classList.remove('colab-df-spinner');\n",
              "      quickchartButtonEl.classList.add('colab-df-quickchart-complete');\n",
              "    }\n",
              "    (() => {\n",
              "      let quickchartButtonEl =\n",
              "        document.querySelector('#df-a849d90c-095f-4dac-9815-304587b5736f button');\n",
              "      quickchartButtonEl.style.display =\n",
              "        google.colab.kernel.accessAllowed ? 'block' : 'none';\n",
              "    })();\n",
              "  </script>\n",
              "</div>\n",
              "    </div>\n",
              "  </div>\n"
            ],
            "application/vnd.google.colaboratory.intrinsic+json": {
              "type": "dataframe",
              "summary": "{\n  \"name\": \"df\",\n  \"rows\": 2,\n  \"fields\": [\n    {\n      \"column\": \"work_status\",\n      \"properties\": {\n        \"dtype\": \"string\",\n        \"samples\": [\n          \"wrkstat\"\n        ],\n        \"num_unique_values\": 1,\n        \"semantic_type\": \"\",\n        \"description\": \"\"\n      }\n    },\n    {\n      \"column\": \"occupation\",\n      \"properties\": {\n        \"dtype\": \"string\",\n        \"samples\": [\n          \"occ10\"\n        ],\n        \"num_unique_values\": 1,\n        \"semantic_type\": \"\",\n        \"description\": \"\"\n      }\n    },\n    {\n      \"column\": \"prestige\",\n      \"properties\": {\n        \"dtype\": \"number\",\n        \"std\": NaN,\n        \"min\": NaN,\n        \"max\": NaN,\n        \"samples\": [],\n        \"num_unique_values\": 0,\n        \"semantic_type\": \"\",\n        \"description\": \"\"\n      }\n    },\n    {\n      \"column\": \"workplace_classification\",\n      \"properties\": {\n        \"dtype\": \"string\",\n        \"samples\": [],\n        \"num_unique_values\": 1,\n        \"semantic_type\": \"\",\n        \"description\": \"\"\n      }\n    },\n    {\n      \"column\": \"marital_status\",\n      \"properties\": {\n        \"dtype\": \"string\",\n        \"samples\": [],\n        \"num_unique_values\": 1,\n        \"semantic_type\": \"\",\n        \"description\": \"\"\n      }\n    },\n    {\n      \"column\": \"divorce\",\n      \"properties\": {\n        \"dtype\": \"string\",\n        \"samples\": [],\n        \"num_unique_values\": 1,\n        \"semantic_type\": \"\",\n        \"description\": \"\"\n      }\n    },\n    {\n      \"column\": \"marriage_type\",\n      \"properties\": {\n        \"dtype\": \"string\",\n        \"samples\": [],\n        \"num_unique_values\": 1,\n        \"semantic_type\": \"\",\n        \"description\": \"\"\n      }\n    },\n    {\n      \"column\": \"spouse_prestige\",\n      \"properties\": {\n        \"dtype\": \"number\",\n        \"std\": NaN,\n        \"min\": NaN,\n        \"max\": NaN,\n        \"samples\": [],\n        \"num_unique_values\": 0,\n        \"semantic_type\": \"\",\n        \"description\": \"\"\n      }\n    },\n    {\n      \"column\": \"respondent_prestige\",\n      \"properties\": {\n        \"dtype\": \"number\",\n        \"std\": NaN,\n        \"min\": NaN,\n        \"max\": NaN,\n        \"samples\": [],\n        \"num_unique_values\": 0,\n        \"semantic_type\": \"\",\n        \"description\": \"\"\n      }\n    },\n    {\n      \"column\": \"spouse_occupation\",\n      \"properties\": {\n        \"dtype\": \"string\",\n        \"samples\": [],\n        \"num_unique_values\": 1,\n        \"semantic_type\": \"\",\n        \"description\": \"\"\n      }\n    },\n    {\n      \"column\": \"marriage_happiness\",\n      \"properties\": {\n        \"dtype\": \"string\",\n        \"samples\": [],\n        \"num_unique_values\": 1,\n        \"semantic_type\": \"\",\n        \"description\": \"\"\n      }\n    },\n    {\n      \"column\": \"age\",\n      \"properties\": {\n        \"dtype\": \"number\",\n        \"std\": NaN,\n        \"min\": NaN,\n        \"max\": NaN,\n        \"samples\": [],\n        \"num_unique_values\": 0,\n        \"semantic_type\": \"\",\n        \"description\": \"\"\n      }\n    },\n    {\n      \"column\": \"educ\",\n      \"properties\": {\n        \"dtype\": \"number\",\n        \"std\": NaN,\n        \"min\": NaN,\n        \"max\": NaN,\n        \"samples\": [],\n        \"num_unique_values\": 0,\n        \"semantic_type\": \"\",\n        \"description\": \"\"\n      }\n    },\n    {\n      \"column\": \"sex\",\n      \"properties\": {\n        \"dtype\": \"string\",\n        \"samples\": [],\n        \"num_unique_values\": 1,\n        \"semantic_type\": \"\",\n        \"description\": \"\"\n      }\n    },\n    {\n      \"column\": \"income16\",\n      \"properties\": {\n        \"dtype\": \"string\",\n        \"samples\": [],\n        \"num_unique_values\": 1,\n        \"semantic_type\": \"\",\n        \"description\": \"\"\n      }\n    },\n    {\n      \"column\": \"income\",\n      \"properties\": {\n        \"dtype\": \"string\",\n        \"samples\": [],\n        \"num_unique_values\": 1,\n        \"semantic_type\": \"\",\n        \"description\": \"\"\n      }\n    },\n    {\n      \"column\": \"prestg105plus\",\n      \"properties\": {\n        \"dtype\": \"number\",\n        \"std\": NaN,\n        \"min\": NaN,\n        \"max\": NaN,\n        \"samples\": [],\n        \"num_unique_values\": 0,\n        \"semantic_type\": \"\",\n        \"description\": \"\"\n      }\n    },\n    {\n      \"column\": \"spouse_hours_worked\",\n      \"properties\": {\n        \"dtype\": \"number\",\n        \"std\": NaN,\n        \"min\": NaN,\n        \"max\": NaN,\n        \"samples\": [],\n        \"num_unique_values\": 0,\n        \"semantic_type\": \"\",\n        \"description\": \"\"\n      }\n    },\n    {\n      \"column\": \"respondent_hours_worked\",\n      \"properties\": {\n        \"dtype\": \"number\",\n        \"std\": NaN,\n        \"min\": NaN,\n        \"max\": NaN,\n        \"samples\": [],\n        \"num_unique_values\": 0,\n        \"semantic_type\": \"\",\n        \"description\": \"\"\n      }\n    }\n  ]\n}"
            }
          },
          "metadata": {},
          "execution_count": 12
        }
      ]
    },
    {
      "cell_type": "code",
      "source": [
        "indices_to_drop = df[df['work_status'] == 'wrkstat'].index\n",
        "df.drop(indices_to_drop, inplace=True)\n",
        "df['work_status'].value_counts()"
      ],
      "metadata": {
        "colab": {
          "base_uri": "https://localhost:8080/"
        },
        "id": "EuaN1wBG3q2V",
        "outputId": "f94ddbf0-48e4-4261-ac15-b560a4e0ae3a"
      },
      "execution_count": 13,
      "outputs": [
        {
          "output_type": "execute_result",
          "data": {
            "text/plain": [
              "working full time                                                             35267\n",
              "retired                                                                       10886\n",
              "keeping house                                                                 10764\n",
              "working part time                                                              7430\n",
              "unemployed, laid off, looking for work                                         2621\n",
              "in school                                                                      2187\n",
              "other                                                                          1643\n",
              "with a job, but not at work because of temporary illness, vacation, strike     1556\n",
              "Name: work_status, dtype: int64"
            ]
          },
          "metadata": {},
          "execution_count": 13
        }
      ]
    },
    {
      "cell_type": "code",
      "source": [
        "df.shape"
      ],
      "metadata": {
        "colab": {
          "base_uri": "https://localhost:8080/"
        },
        "id": "Ysl536Ro57ht",
        "outputId": "5ceedf11-9955-4b04-b3ad-36b2abebc535"
      },
      "execution_count": 14,
      "outputs": [
        {
          "output_type": "execute_result",
          "data": {
            "text/plain": [
              "(72390, 19)"
            ]
          },
          "metadata": {},
          "execution_count": 14
        }
      ]
    },
    {
      "cell_type": "code",
      "source": [
        "df.loc[df['work_status'] == 'wrkstat']\n",
        "# Sanity check"
      ],
      "metadata": {
        "colab": {
          "base_uri": "https://localhost:8080/",
          "height": 73
        },
        "id": "FHJEI-qK3w7t",
        "outputId": "7f739333-f683-485d-c778-bde2d02a60bf"
      },
      "execution_count": 15,
      "outputs": [
        {
          "output_type": "execute_result",
          "data": {
            "text/plain": [
              "Empty DataFrame\n",
              "Columns: [work_status, occupation, prestige, workplace_classification, marital_status, divorce, marriage_type, spouse_prestige, respondent_prestige, spouse_occupation, marriage_happiness, age, educ, sex, income16, income, prestg105plus, spouse_hours_worked, respondent_hours_worked]\n",
              "Index: []"
            ],
            "text/html": [
              "\n",
              "  <div id=\"df-3543939a-0ded-4c93-b0bb-54d88ed43707\" class=\"colab-df-container\">\n",
              "    <div>\n",
              "<style scoped>\n",
              "    .dataframe tbody tr th:only-of-type {\n",
              "        vertical-align: middle;\n",
              "    }\n",
              "\n",
              "    .dataframe tbody tr th {\n",
              "        vertical-align: top;\n",
              "    }\n",
              "\n",
              "    .dataframe thead th {\n",
              "        text-align: right;\n",
              "    }\n",
              "</style>\n",
              "<table border=\"1\" class=\"dataframe\">\n",
              "  <thead>\n",
              "    <tr style=\"text-align: right;\">\n",
              "      <th></th>\n",
              "      <th>work_status</th>\n",
              "      <th>occupation</th>\n",
              "      <th>prestige</th>\n",
              "      <th>workplace_classification</th>\n",
              "      <th>marital_status</th>\n",
              "      <th>divorce</th>\n",
              "      <th>marriage_type</th>\n",
              "      <th>spouse_prestige</th>\n",
              "      <th>respondent_prestige</th>\n",
              "      <th>spouse_occupation</th>\n",
              "      <th>marriage_happiness</th>\n",
              "      <th>age</th>\n",
              "      <th>educ</th>\n",
              "      <th>sex</th>\n",
              "      <th>income16</th>\n",
              "      <th>income</th>\n",
              "      <th>prestg105plus</th>\n",
              "      <th>spouse_hours_worked</th>\n",
              "      <th>respondent_hours_worked</th>\n",
              "    </tr>\n",
              "  </thead>\n",
              "  <tbody>\n",
              "  </tbody>\n",
              "</table>\n",
              "</div>\n",
              "    <div class=\"colab-df-buttons\">\n",
              "\n",
              "  <div class=\"colab-df-container\">\n",
              "    <button class=\"colab-df-convert\" onclick=\"convertToInteractive('df-3543939a-0ded-4c93-b0bb-54d88ed43707')\"\n",
              "            title=\"Convert this dataframe to an interactive table.\"\n",
              "            style=\"display:none;\">\n",
              "\n",
              "  <svg xmlns=\"http://www.w3.org/2000/svg\" height=\"24px\" viewBox=\"0 -960 960 960\">\n",
              "    <path d=\"M120-120v-720h720v720H120Zm60-500h600v-160H180v160Zm220 220h160v-160H400v160Zm0 220h160v-160H400v160ZM180-400h160v-160H180v160Zm440 0h160v-160H620v160ZM180-180h160v-160H180v160Zm440 0h160v-160H620v160Z\"/>\n",
              "  </svg>\n",
              "    </button>\n",
              "\n",
              "  <style>\n",
              "    .colab-df-container {\n",
              "      display:flex;\n",
              "      gap: 12px;\n",
              "    }\n",
              "\n",
              "    .colab-df-convert {\n",
              "      background-color: #E8F0FE;\n",
              "      border: none;\n",
              "      border-radius: 50%;\n",
              "      cursor: pointer;\n",
              "      display: none;\n",
              "      fill: #1967D2;\n",
              "      height: 32px;\n",
              "      padding: 0 0 0 0;\n",
              "      width: 32px;\n",
              "    }\n",
              "\n",
              "    .colab-df-convert:hover {\n",
              "      background-color: #E2EBFA;\n",
              "      box-shadow: 0px 1px 2px rgba(60, 64, 67, 0.3), 0px 1px 3px 1px rgba(60, 64, 67, 0.15);\n",
              "      fill: #174EA6;\n",
              "    }\n",
              "\n",
              "    .colab-df-buttons div {\n",
              "      margin-bottom: 4px;\n",
              "    }\n",
              "\n",
              "    [theme=dark] .colab-df-convert {\n",
              "      background-color: #3B4455;\n",
              "      fill: #D2E3FC;\n",
              "    }\n",
              "\n",
              "    [theme=dark] .colab-df-convert:hover {\n",
              "      background-color: #434B5C;\n",
              "      box-shadow: 0px 1px 3px 1px rgba(0, 0, 0, 0.15);\n",
              "      filter: drop-shadow(0px 1px 2px rgba(0, 0, 0, 0.3));\n",
              "      fill: #FFFFFF;\n",
              "    }\n",
              "  </style>\n",
              "\n",
              "    <script>\n",
              "      const buttonEl =\n",
              "        document.querySelector('#df-3543939a-0ded-4c93-b0bb-54d88ed43707 button.colab-df-convert');\n",
              "      buttonEl.style.display =\n",
              "        google.colab.kernel.accessAllowed ? 'block' : 'none';\n",
              "\n",
              "      async function convertToInteractive(key) {\n",
              "        const element = document.querySelector('#df-3543939a-0ded-4c93-b0bb-54d88ed43707');\n",
              "        const dataTable =\n",
              "          await google.colab.kernel.invokeFunction('convertToInteractive',\n",
              "                                                    [key], {});\n",
              "        if (!dataTable) return;\n",
              "\n",
              "        const docLinkHtml = 'Like what you see? Visit the ' +\n",
              "          '<a target=\"_blank\" href=https://colab.research.google.com/notebooks/data_table.ipynb>data table notebook</a>'\n",
              "          + ' to learn more about interactive tables.';\n",
              "        element.innerHTML = '';\n",
              "        dataTable['output_type'] = 'display_data';\n",
              "        await google.colab.output.renderOutput(dataTable, element);\n",
              "        const docLink = document.createElement('div');\n",
              "        docLink.innerHTML = docLinkHtml;\n",
              "        element.appendChild(docLink);\n",
              "      }\n",
              "    </script>\n",
              "  </div>\n",
              "\n",
              "    </div>\n",
              "  </div>\n"
            ],
            "application/vnd.google.colaboratory.intrinsic+json": {
              "type": "dataframe",
              "summary": "{\n  \"name\": \"# Sanity check\",\n  \"rows\": 0,\n  \"fields\": [\n    {\n      \"column\": \"work_status\",\n      \"properties\": {\n        \"dtype\": \"date\",\n        \"min\": NaN,\n        \"max\": NaN,\n        \"samples\": [],\n        \"num_unique_values\": 0,\n        \"semantic_type\": \"\",\n        \"description\": \"\"\n      }\n    },\n    {\n      \"column\": \"occupation\",\n      \"properties\": {\n        \"dtype\": \"date\",\n        \"min\": NaN,\n        \"max\": NaN,\n        \"samples\": [],\n        \"num_unique_values\": 0,\n        \"semantic_type\": \"\",\n        \"description\": \"\"\n      }\n    },\n    {\n      \"column\": \"prestige\",\n      \"properties\": {\n        \"dtype\": \"number\",\n        \"std\": NaN,\n        \"min\": NaN,\n        \"max\": NaN,\n        \"samples\": [],\n        \"num_unique_values\": 0,\n        \"semantic_type\": \"\",\n        \"description\": \"\"\n      }\n    },\n    {\n      \"column\": \"workplace_classification\",\n      \"properties\": {\n        \"dtype\": \"date\",\n        \"min\": NaN,\n        \"max\": NaN,\n        \"samples\": [],\n        \"num_unique_values\": 0,\n        \"semantic_type\": \"\",\n        \"description\": \"\"\n      }\n    },\n    {\n      \"column\": \"marital_status\",\n      \"properties\": {\n        \"dtype\": \"date\",\n        \"min\": NaN,\n        \"max\": NaN,\n        \"samples\": [],\n        \"num_unique_values\": 0,\n        \"semantic_type\": \"\",\n        \"description\": \"\"\n      }\n    },\n    {\n      \"column\": \"divorce\",\n      \"properties\": {\n        \"dtype\": \"date\",\n        \"min\": NaN,\n        \"max\": NaN,\n        \"samples\": [],\n        \"num_unique_values\": 0,\n        \"semantic_type\": \"\",\n        \"description\": \"\"\n      }\n    },\n    {\n      \"column\": \"marriage_type\",\n      \"properties\": {\n        \"dtype\": \"date\",\n        \"min\": NaN,\n        \"max\": NaN,\n        \"samples\": [],\n        \"num_unique_values\": 0,\n        \"semantic_type\": \"\",\n        \"description\": \"\"\n      }\n    },\n    {\n      \"column\": \"spouse_prestige\",\n      \"properties\": {\n        \"dtype\": \"number\",\n        \"std\": NaN,\n        \"min\": NaN,\n        \"max\": NaN,\n        \"samples\": [],\n        \"num_unique_values\": 0,\n        \"semantic_type\": \"\",\n        \"description\": \"\"\n      }\n    },\n    {\n      \"column\": \"respondent_prestige\",\n      \"properties\": {\n        \"dtype\": \"number\",\n        \"std\": NaN,\n        \"min\": NaN,\n        \"max\": NaN,\n        \"samples\": [],\n        \"num_unique_values\": 0,\n        \"semantic_type\": \"\",\n        \"description\": \"\"\n      }\n    },\n    {\n      \"column\": \"spouse_occupation\",\n      \"properties\": {\n        \"dtype\": \"date\",\n        \"min\": NaN,\n        \"max\": NaN,\n        \"samples\": [],\n        \"num_unique_values\": 0,\n        \"semantic_type\": \"\",\n        \"description\": \"\"\n      }\n    },\n    {\n      \"column\": \"marriage_happiness\",\n      \"properties\": {\n        \"dtype\": \"date\",\n        \"min\": NaN,\n        \"max\": NaN,\n        \"samples\": [],\n        \"num_unique_values\": 0,\n        \"semantic_type\": \"\",\n        \"description\": \"\"\n      }\n    },\n    {\n      \"column\": \"age\",\n      \"properties\": {\n        \"dtype\": \"number\",\n        \"std\": NaN,\n        \"min\": NaN,\n        \"max\": NaN,\n        \"samples\": [],\n        \"num_unique_values\": 0,\n        \"semantic_type\": \"\",\n        \"description\": \"\"\n      }\n    },\n    {\n      \"column\": \"educ\",\n      \"properties\": {\n        \"dtype\": \"number\",\n        \"std\": NaN,\n        \"min\": NaN,\n        \"max\": NaN,\n        \"samples\": [],\n        \"num_unique_values\": 0,\n        \"semantic_type\": \"\",\n        \"description\": \"\"\n      }\n    },\n    {\n      \"column\": \"sex\",\n      \"properties\": {\n        \"dtype\": \"date\",\n        \"min\": NaN,\n        \"max\": NaN,\n        \"samples\": [],\n        \"num_unique_values\": 0,\n        \"semantic_type\": \"\",\n        \"description\": \"\"\n      }\n    },\n    {\n      \"column\": \"income16\",\n      \"properties\": {\n        \"dtype\": \"date\",\n        \"min\": NaN,\n        \"max\": NaN,\n        \"samples\": [],\n        \"num_unique_values\": 0,\n        \"semantic_type\": \"\",\n        \"description\": \"\"\n      }\n    },\n    {\n      \"column\": \"income\",\n      \"properties\": {\n        \"dtype\": \"date\",\n        \"min\": NaN,\n        \"max\": NaN,\n        \"samples\": [],\n        \"num_unique_values\": 0,\n        \"semantic_type\": \"\",\n        \"description\": \"\"\n      }\n    },\n    {\n      \"column\": \"prestg105plus\",\n      \"properties\": {\n        \"dtype\": \"number\",\n        \"std\": NaN,\n        \"min\": NaN,\n        \"max\": NaN,\n        \"samples\": [],\n        \"num_unique_values\": 0,\n        \"semantic_type\": \"\",\n        \"description\": \"\"\n      }\n    },\n    {\n      \"column\": \"spouse_hours_worked\",\n      \"properties\": {\n        \"dtype\": \"number\",\n        \"std\": NaN,\n        \"min\": NaN,\n        \"max\": NaN,\n        \"samples\": [],\n        \"num_unique_values\": 0,\n        \"semantic_type\": \"\",\n        \"description\": \"\"\n      }\n    },\n    {\n      \"column\": \"respondent_hours_worked\",\n      \"properties\": {\n        \"dtype\": \"number\",\n        \"std\": NaN,\n        \"min\": NaN,\n        \"max\": NaN,\n        \"samples\": [],\n        \"num_unique_values\": 0,\n        \"semantic_type\": \"\",\n        \"description\": \"\"\n      }\n    }\n  ]\n}"
            }
          },
          "metadata": {},
          "execution_count": 15
        }
      ]
    },
    {
      "cell_type": "code",
      "source": [
        "spouse_prestige = df['spouse_prestige']\n",
        "prestige = df['prestige']\n",
        "respondent_prestige = df['respondent_prestige']\n",
        "income16 = df['income16']\n",
        "income = df['income']\n",
        "work_status = df['work_status']\n",
        "occupation = df['occupation']\n",
        "workplace_classification = df['workplace_classification']\n",
        "marital_status = df['marital_status']\n",
        "divorce = df['divorce']\n",
        "marriage_type = df['marriage_type']\n",
        "spouse_occupation = df['spouse_occupation']\n",
        "marriage_happiness = df['marriage_happiness']\n",
        "age = df['age']\n",
        "educ = df['educ']\n",
        "sex = df['sex']\n",
        "prestg105plus = df['prestg105plus']\n",
        "spouse_hours_worked = df['spouse_hours_worked']\n",
        "respondent_hours_worked = df['respondent_hours_worked']\n",
        "# Updating vars to reflect dropped rows"
      ],
      "metadata": {
        "id": "0avLtxl-6eZM"
      },
      "execution_count": 16,
      "outputs": []
    },
    {
      "cell_type": "code",
      "source": [
        "occupation.value_counts(), '\\n'"
      ],
      "metadata": {
        "colab": {
          "base_uri": "https://localhost:8080/"
        },
        "id": "Lq60Rze6vvXs",
        "outputId": "4ecbfa58-19d3-4309-bff7-201d15b734f9"
      },
      "execution_count": 17,
      "outputs": [
        {
          "output_type": "execute_result",
          "data": {
            "text/plain": [
              "(secretaries and administrative assistants                                                     2727\n",
              " retail salespersons                                                                           1515\n",
              " elementary and middle school teachers                                                         1475\n",
              " nursing, psychiatric, and home health aides                                                   1386\n",
              " driver/sales workers and truck drivers                                                        1324\n",
              "                                                                                               ... \n",
              " animal breeders                                                                                  1\n",
              " extruding and forming machine setters, operators, and tenders,  synthetic and glass fibers       1\n",
              " signal and track switch repairers                                                                1\n",
              " commercial divers                                                                                1\n",
              " hunters and trappers                                                                             1\n",
              " Name: occupation, Length: 533, dtype: int64,\n",
              " '\\n')"
            ]
          },
          "metadata": {},
          "execution_count": 17
        }
      ]
    },
    {
      "cell_type": "code",
      "source": [
        "# occupation.unique()"
      ],
      "metadata": {
        "id": "n8_colyQD-P-"
      },
      "execution_count": 20,
      "outputs": []
    },
    {
      "cell_type": "markdown",
      "source": [
        "In the codebook, since the missing values for \"hapmar\" can be largely attributed to \"not applicable\" instead of \"no answer\" or \"skipped on web,\" we decided that it was valid to drop all of the rows that had NaN for this."
      ],
      "metadata": {
        "id": "3kLWCIIcNI3K"
      }
    },
    {
      "cell_type": "code",
      "source": [
        "workplace_classification.value_counts(), '\\n'"
      ],
      "metadata": {
        "colab": {
          "base_uri": "https://localhost:8080/"
        },
        "id": "SveOXnBxv1J9",
        "outputId": "5083a972-844b-4d38-f2f3-fd9d24c89b5f"
      },
      "execution_count": 21,
      "outputs": [
        {
          "output_type": "execute_result",
          "data": {
            "text/plain": [
              "(other (agriculture, construction, service, government, etc.)    1612\n",
              " retail trade                                                     283\n",
              " manufacturing                                                    228\n",
              " wholesale trade                                                   62\n",
              " Name: workplace_classification, dtype: int64,\n",
              " '\\n')"
            ]
          },
          "metadata": {},
          "execution_count": 21
        }
      ]
    },
    {
      "cell_type": "code",
      "source": [
        "marital_status.value_counts(), '\\n'"
      ],
      "metadata": {
        "colab": {
          "base_uri": "https://localhost:8080/"
        },
        "id": "2LISiKdVv6pz",
        "outputId": "7cbd428a-3c90-4011-84e5-7fdff2b006c7"
      },
      "execution_count": 22,
      "outputs": [
        {
          "output_type": "execute_result",
          "data": {
            "text/plain": [
              "(married          37590\n",
              " never married    15910\n",
              " divorced          9642\n",
              " widowed           6756\n",
              " separated         2441\n",
              " Name: marital_status, dtype: int64,\n",
              " '\\n')"
            ]
          },
          "metadata": {},
          "execution_count": 22
        }
      ]
    },
    {
      "cell_type": "code",
      "source": [
        "divorce.value_counts(), '\\n'"
      ],
      "metadata": {
        "colab": {
          "base_uri": "https://localhost:8080/"
        },
        "id": "PMT9WpbTv9AF",
        "outputId": "59afb34f-604c-4e9b-ab41-90823fd04f05"
      },
      "execution_count": 23,
      "outputs": [
        {
          "output_type": "execute_result",
          "data": {
            "text/plain": [
              "(no     34738\n",
              " yes     9366\n",
              " Name: divorce, dtype: int64,\n",
              " '\\n')"
            ]
          },
          "metadata": {},
          "execution_count": 23
        }
      ]
    },
    {
      "cell_type": "code",
      "source": [
        "marriage_type.value_counts(), '\\n'"
      ],
      "metadata": {
        "colab": {
          "base_uri": "https://localhost:8080/"
        },
        "id": "E-mSRF9Uv_LW",
        "outputId": "d20a7bb6-4fc8-403c-a083-160e32063066"
      },
      "execution_count": 24,
      "outputs": [
        {
          "output_type": "execute_result",
          "data": {
            "text/plain": [
              "(marriage between a man and a woman                4999\n",
              " not sure                                            39\n",
              " marriage between two people of the same gender      36\n",
              " Name: marriage_type, dtype: int64,\n",
              " '\\n')"
            ]
          },
          "metadata": {},
          "execution_count": 24
        }
      ]
    },
    {
      "cell_type": "code",
      "source": [
        "spouse_occupation.value_counts(), '\\n'"
      ],
      "metadata": {
        "colab": {
          "base_uri": "https://localhost:8080/"
        },
        "id": "t-nXW59xwCLh",
        "outputId": "6c372c51-531e-4d74-8c7e-3ed748ebd7a8"
      },
      "execution_count": 25,
      "outputs": [
        {
          "output_type": "execute_result",
          "data": {
            "text/plain": [
              "(secretaries and administrative assistants                                          1389\n",
              " driver/sales workers and truck drivers                                              915\n",
              " elementary and middle school teachers                                               822\n",
              " retail salespersons                                                                 774\n",
              " first-line supervisors of retail sales workers                                      747\n",
              "                                                                                    ... \n",
              " multiple machine tool setters, operators, and tenders, metal and plastic              1\n",
              " hoist and winch operators                                                             1\n",
              " other transportation workers                                                          1\n",
              " milling and planing machine setters, operators, and tenders, metal  and plastic       1\n",
              " agricultural engineers                                                                1\n",
              " Name: spouse_occupation, Length: 532, dtype: int64,\n",
              " '\\n')"
            ]
          },
          "metadata": {},
          "execution_count": 25
        }
      ]
    },
    {
      "cell_type": "code",
      "source": [
        "marriage_happiness.value_counts(), '\\n'"
      ],
      "metadata": {
        "colab": {
          "base_uri": "https://localhost:8080/"
        },
        "id": "JGEv4PR7wIiU",
        "outputId": "9c00ad6d-783a-434d-a40d-bd03a0505f6d"
      },
      "execution_count": 26,
      "outputs": [
        {
          "output_type": "execute_result",
          "data": {
            "text/plain": [
              "(very happy       21427\n",
              " pretty happy     11506\n",
              " not too happy     1066\n",
              " Name: marriage_happiness, dtype: int64,\n",
              " '\\n')"
            ]
          },
          "metadata": {},
          "execution_count": 26
        }
      ]
    },
    {
      "cell_type": "code",
      "source": [
        "sex.value_counts(), '\\n'"
      ],
      "metadata": {
        "colab": {
          "base_uri": "https://localhost:8080/"
        },
        "id": "yijJwHTtwLXn",
        "outputId": "3e3b90f2-21a9-40fc-d5e3-1449bcee5a82"
      },
      "execution_count": 27,
      "outputs": [
        {
          "output_type": "execute_result",
          "data": {
            "text/plain": [
              "(female    40301\n",
              " male      31977\n",
              " Name: sex, dtype: int64,\n",
              " '\\n')"
            ]
          },
          "metadata": {},
          "execution_count": 27
        }
      ]
    },
    {
      "cell_type": "code",
      "source": [
        "educ.value_counts(), '\\n'\n",
        "# educ = highest year of school completed (GSS website)"
      ],
      "metadata": {
        "colab": {
          "base_uri": "https://localhost:8080/"
        },
        "id": "f_VzpyMJoLVx",
        "outputId": "e364024b-469a-4c44-963b-7580cad7c633"
      },
      "execution_count": 28,
      "outputs": [
        {
          "output_type": "execute_result",
          "data": {
            "text/plain": [
              "(12.0    21401\n",
              " 16.0     9994\n",
              " 14.0     8208\n",
              " 13.0     5905\n",
              " 11.0     3942\n",
              " 15.0     3307\n",
              " 10.0     3010\n",
              " 18.0     2945\n",
              " 8.0      2786\n",
              " 17.0     2392\n",
              " 9.0      2172\n",
              " 20.0     1803\n",
              " 19.0     1112\n",
              " 7.0       896\n",
              " 6.0       866\n",
              " 5.0       410\n",
              " 4.0       326\n",
              " 3.0       268\n",
              " 0.0       177\n",
              " 2.0       158\n",
              " 1.0        49\n",
              " Name: educ, dtype: int64,\n",
              " '\\n')"
            ]
          },
          "metadata": {},
          "execution_count": 28
        }
      ]
    },
    {
      "cell_type": "code",
      "source": [
        "income16.value_counts(), '\\n'"
      ],
      "metadata": {
        "colab": {
          "base_uri": "https://localhost:8080/"
        },
        "id": "DnBM1o6nwQV1",
        "outputId": "35897861-a4f8-4030-9b77-8491879e8e1c"
      },
      "execution_count": 29,
      "outputs": [
        {
          "output_type": "execute_result",
          "data": {
            "text/plain": [
              "($60,000 to $74,999      1144\n",
              " $170,000 or over        1037\n",
              " $75,000 to $89,999       935\n",
              " $90,000 to $109,999      899\n",
              " $50,000 to $59,999       886\n",
              " $40,000 to $49,999       854\n",
              " $110,000 to $129,999     630\n",
              " $30,000 to $34,999       564\n",
              " $35,000 to $39,999       515\n",
              " $130,000 to $149,999     464\n",
              " $25,000 to $29,999       455\n",
              " $150,000 to $169,999     370\n",
              " $10,000 to $12,499       349\n",
              " $22,500 to $24,999       347\n",
              " $20,000 to $22,499       332\n",
              " $12,500 to $14,999       304\n",
              " $15,000 to $17,499       247\n",
              " $17,500 to $19,999       219\n",
              " $8,000 to $9,999         183\n",
              " under $1,000             172\n",
              " $1,000 to $2,999         145\n",
              " $3,000 to $3,999          80\n",
              " $7,000 to $7,999          70\n",
              " $5,000 to $5,999          67\n",
              " $6,000 to $6,999          50\n",
              " $4,000 to $4,999          49\n",
              " Name: income16, dtype: int64,\n",
              " '\\n')"
            ]
          },
          "metadata": {},
          "execution_count": 29
        }
      ]
    },
    {
      "cell_type": "code",
      "source": [
        "income.value_counts(), '\\n'"
      ],
      "metadata": {
        "colab": {
          "base_uri": "https://localhost:8080/"
        },
        "id": "JecSeA1xwTr1",
        "outputId": "ddaa3032-a336-452a-f9f0-d0125316a0d3"
      },
      "execution_count": 30,
      "outputs": [
        {
          "output_type": "execute_result",
          "data": {
            "text/plain": [
              "($25,000 or more       34785\n",
              " $10,000 to $14,999     6850\n",
              " $20,000 to $24,999     5528\n",
              " $15,000 to $19,999     5301\n",
              " $8,000 to $9,999       2285\n",
              " $1,000 to $2,999       1412\n",
              " $7,000 to $7,999       1315\n",
              " $5,000 to $5,999       1314\n",
              " $3,000 to $3,999       1309\n",
              " $6,000 to $6,999       1249\n",
              " $4,000 to $4,999       1189\n",
              " under $1,000            902\n",
              " Name: income, dtype: int64,\n",
              " '\\n')"
            ]
          },
          "metadata": {},
          "execution_count": 30
        }
      ]
    },
    {
      "cell_type": "markdown",
      "source": [
        "**Cleaning income**\n",
        "- Making a copy of income with numerical values for data visualization and analysis purposes. Rounding each income category to its highest bound (e.g. 10,000-14,999 --> 14999)"
      ],
      "metadata": {
        "id": "vRXITbx4E9AX"
      }
    },
    {
      "cell_type": "code",
      "source": [
        "income_numeric = income.copy()\n",
        "income_numeric = income_numeric.replace({\"$25,000 or more\": 25000,\n",
        "                                         \"$10,000 to $14,999\": 12500,\n",
        "                                         \"$20,000 to $24,999\": 22500,\n",
        "                                         \"$15,000 to $19,999\": 17500,\n",
        "                                         \"$8,000 to $9,999\": 9000,\n",
        "                                         \"$1,000 to $2,999\": 2000,\n",
        "                                         \"$7,000 to $7,999\": 7500,\n",
        "                                         \"$5,000 to $5,999\": 5500,\n",
        "                                         \"$3,000 to $3,999\": 3500,\n",
        "                                         \"$6,000 to $6,999\": 6500,\n",
        "                                         \"$4,000 to $4,999\": 4500,\n",
        "                                         \"under $1,000\": 1000})\n",
        "# There's a weird distribution of the values. Correcting it:\n",
        "# Note: Kelsey did this by assigning each numeric value to its closest value of 25,000 in increments of 2500.\n",
        "# For example, 4500 --> 5000."
      ],
      "metadata": {
        "id": "K_4oEmrbFpvI"
      },
      "execution_count": 31,
      "outputs": []
    },
    {
      "cell_type": "code",
      "source": [
        "income_numeric.value_counts()"
      ],
      "metadata": {
        "colab": {
          "base_uri": "https://localhost:8080/"
        },
        "id": "nKsmYXozF61F",
        "outputId": "239a0f28-73f6-4f33-dcd6-87dbc6707171"
      },
      "execution_count": 32,
      "outputs": [
        {
          "output_type": "execute_result",
          "data": {
            "text/plain": [
              "25000.0    34785\n",
              "12500.0     6850\n",
              "22500.0     5528\n",
              "17500.0     5301\n",
              "9000.0      2285\n",
              "2000.0      1412\n",
              "7500.0      1315\n",
              "5500.0      1314\n",
              "3500.0      1309\n",
              "6500.0      1249\n",
              "4500.0      1189\n",
              "1000.0       902\n",
              "Name: income, dtype: int64"
            ]
          },
          "metadata": {},
          "execution_count": 32
        }
      ]
    },
    {
      "cell_type": "code",
      "source": [
        "df['income'] = income_numeric"
      ],
      "metadata": {
        "id": "5tuJsWGhOnym"
      },
      "execution_count": 33,
      "outputs": []
    },
    {
      "cell_type": "code",
      "source": [
        "df_prestige_hapmar = df.copy()"
      ],
      "metadata": {
        "id": "9iFuyI3eEqQY"
      },
      "execution_count": 34,
      "outputs": []
    },
    {
      "cell_type": "code",
      "source": [
        "df_prestige_hapmar_hours = df.copy()"
      ],
      "metadata": {
        "id": "05zX0X4AVYrs"
      },
      "execution_count": 35,
      "outputs": []
    },
    {
      "cell_type": "code",
      "source": [
        "# Check for NaN overlaps\n",
        "both_nan = df_prestige_hapmar[df_prestige_hapmar['respondent_prestige'].isna() & df_prestige_hapmar['prestg105plus'].isna()]\n",
        "respondent_prestige_nan_prestg105plus_not = df_prestige_hapmar[df_prestige_hapmar['respondent_prestige'].isna() & df_prestige_hapmar['prestg105plus'].notna()]\n",
        "prestg105plus_nan_respondent_prestige_not = df_prestige_hapmar[df_prestige_hapmar['prestg105plus'].isna() & df_prestige_hapmar['respondent_prestige'].notna()]\n",
        "\n",
        "# Output the counts\n",
        "print(f\"Rows where both variables are NaN: {len(both_nan)}\")\n",
        "print(f\"Rows where 'respondent_prestige' is NaN and 'prestg105plus' is not: {len(respondent_prestige_nan_prestg105plus_not)}\")\n",
        "print(f\"Rows where 'prestg105plus' is NaN and 'respondent_prestige' is not: {len(prestg105plus_nan_respondent_prestige_not)}\")\n",
        "\n",
        "# Combining the variables\n",
        "\n",
        "# Example of combining:\n",
        "df['combined_var'] = df['respondent_prestige'].combine_first(df['prestg105plus'])\n",
        "\n",
        "# This new column 'combined_var' will have 'respondent_prestige' values where available; otherwise, it'll use 'prestg105plus' values."
      ],
      "metadata": {
        "colab": {
          "base_uri": "https://localhost:8080/"
        },
        "id": "Aa_T7bWDQOcj",
        "outputId": "c793d838-092a-4a95-b781-ed138f69f935"
      },
      "execution_count": 36,
      "outputs": [
        {
          "output_type": "stream",
          "name": "stdout",
          "text": [
            "Rows where both variables are NaN: 5142\n",
            "Rows where 'respondent_prestige' is NaN and 'prestg105plus' is not: 0\n",
            "Rows where 'prestg105plus' is NaN and 'respondent_prestige' is not: 7199\n"
          ]
        }
      ]
    },
    {
      "cell_type": "code",
      "source": [
        "# Check for NaN overlaps\n",
        "both_nan = df_prestige_hapmar[df_prestige_hapmar['income16'].isna() & df_prestige_hapmar['income'].isna()]\n",
        "income16_nan_income_not = df_prestige_hapmar[df_prestige_hapmar['income16'].isna() & df_prestige_hapmar['income'].notna()]\n",
        "income_nan_income16_not = df_prestige_hapmar[df_prestige_hapmar['income'].isna() & df_prestige_hapmar['income16'].notna()]\n",
        "\n",
        "# Output the counts\n",
        "print(f\"Rows where both variables are NaN: {len(both_nan)}\")\n",
        "print(f\"Rows where 'income16' is NaN and 'income' is not: {len(income16_nan_income_not)}\")\n",
        "print(f\"Rows where 'income' is NaN and 'income16' is not: {len(income_nan_income16_not)}\")\n",
        "\n",
        "# Combining the variables\n",
        "\n",
        "# Example of combining:\n",
        "df['combined_var'] = df['income16'].combine_first(df['income'])\n",
        "\n",
        "# This new column 'combined_var' will have 'income16' values where available; otherwise, it'll use 'income' values."
      ],
      "metadata": {
        "colab": {
          "base_uri": "https://localhost:8080/"
        },
        "id": "AAu0s_nsZrlN",
        "outputId": "3287819d-1e35-4e09-8950-00b7e3e6dcc8"
      },
      "execution_count": 37,
      "outputs": [
        {
          "output_type": "stream",
          "name": "stdout",
          "text": [
            "Rows where both variables are NaN: 8951\n",
            "Rows where 'income16' is NaN and 'income' is not: 52072\n",
            "Rows where 'income' is NaN and 'income16' is not: 0\n"
          ]
        }
      ]
    },
    {
      "cell_type": "code",
      "source": [
        "# Check for NaN overlaps\n",
        "both_nan = df_prestige_hapmar[df_prestige_hapmar['prestige'].isna() & df_prestige_hapmar['respondent_prestige'].isna()]\n",
        "prestige_nan_respondent_prestige_not = df_prestige_hapmar[df_prestige_hapmar['prestige'].isna() & df_prestige_hapmar['respondent_prestige'].notna()]\n",
        "respondent_prestige_nan_prestige_not = df_prestige_hapmar[df_prestige_hapmar['respondent_prestige'].isna() & df_prestige_hapmar['prestige'].notna()]\n",
        "\n",
        "# Output the counts\n",
        "print(f\"Rows where both variables are NaN: {len(both_nan)}\")\n",
        "print(f\"Rows where 'prestige' is NaN and 'respondent_prestige' is not: {len(prestige_nan_respondent_prestige_not)}\")\n",
        "print(f\"Rows where 'respondent_prestige' is NaN and 'prestige' is not: {len(respondent_prestige_nan_prestige_not)}\")\n",
        "\n",
        "# Combining the variables\n",
        "\n",
        "# Example of combining:\n",
        "df['combined_var'] = df['prestige'].combine_first(df['respondent_prestige'])\n",
        "\n",
        "# This new column 'combined_var' will have 'prestige' values where available; otherwise, it'll use 'respondent_prestige' values."
      ],
      "metadata": {
        "colab": {
          "base_uri": "https://localhost:8080/"
        },
        "id": "w2zzp99NbJjG",
        "outputId": "61ce9792-60b7-46eb-8d05-11914a0b01fd"
      },
      "execution_count": 38,
      "outputs": [
        {
          "output_type": "stream",
          "name": "stdout",
          "text": [
            "Rows where both variables are NaN: 4222\n",
            "Rows where 'prestige' is NaN and 'respondent_prestige' is not: 43901\n",
            "Rows where 'respondent_prestige' is NaN and 'prestige' is not: 920\n"
          ]
        }
      ]
    },
    {
      "cell_type": "code",
      "source": [
        "df_prestige_hapmar.dropna(subset=['respondent_prestige', 'marriage_happiness', 'marital_status', 'spouse_prestige'], inplace=True)\n",
        "len(df_prestige_hapmar)\n",
        "# This is a df with only rows that have respondent_prestige, marriage_happiness, marital_status, and spouse_prestige values"
      ],
      "metadata": {
        "colab": {
          "base_uri": "https://localhost:8080/"
        },
        "id": "ZRS9s0kGOz41",
        "outputId": "c9bf6b31-b573-4f49-fbdd-33468f5a333c"
      },
      "execution_count": 39,
      "outputs": [
        {
          "output_type": "execute_result",
          "data": {
            "text/plain": [
              "29551"
            ]
          },
          "metadata": {},
          "execution_count": 39
        }
      ]
    },
    {
      "cell_type": "code",
      "source": [
        "len(df_prestige_hapmar['occupation'].unique())"
      ],
      "metadata": {
        "colab": {
          "base_uri": "https://localhost:8080/"
        },
        "id": "Pdya9iD1Jq0J",
        "outputId": "6c10ed5e-e650-403a-8e62-15b3d1dbab35"
      },
      "execution_count": 40,
      "outputs": [
        {
          "output_type": "execute_result",
          "data": {
            "text/plain": [
              "522"
            ]
          },
          "metadata": {},
          "execution_count": 40
        }
      ]
    },
    {
      "cell_type": "code",
      "source": [
        "df_prestige_hapmar_hours.dropna(subset=['respondent_prestige', 'marriage_happiness', 'marital_status', 'spouse_prestige', 'spouse_hours_worked', 'respondent_hours_worked'], inplace=True)\n",
        "len(df_prestige_hapmar_hours)\n",
        "# This is a df with only rows that have respondent_prestige, marriage_happiness, marital_status,spouse prestige, and spouse_hours_worked values"
      ],
      "metadata": {
        "colab": {
          "base_uri": "https://localhost:8080/"
        },
        "id": "9yFXw-DMVj30",
        "outputId": "b8e538ae-a921-478a-a666-4cc0d8ddd79e"
      },
      "execution_count": 41,
      "outputs": [
        {
          "output_type": "execute_result",
          "data": {
            "text/plain": [
              "14122"
            ]
          },
          "metadata": {},
          "execution_count": 41
        }
      ]
    },
    {
      "cell_type": "code",
      "source": [
        "len(df_prestige_hapmar_hours['occupation'].unique())"
      ],
      "metadata": {
        "colab": {
          "base_uri": "https://localhost:8080/"
        },
        "id": "VlN90vFtowuD",
        "outputId": "b54ebabb-f94a-4a6c-ca24-6ed8decbd7a0"
      },
      "execution_count": 51,
      "outputs": [
        {
          "output_type": "execute_result",
          "data": {
            "text/plain": [
              "499"
            ]
          },
          "metadata": {},
          "execution_count": 51
        }
      ]
    },
    {
      "cell_type": "code",
      "source": [
        "df_prestige_hapmar_hours.isna().sum()"
      ],
      "metadata": {
        "colab": {
          "base_uri": "https://localhost:8080/"
        },
        "id": "BaBGoC_hiC6b",
        "outputId": "0ffb1246-248d-4920-d11a-cfce4ce3033c"
      },
      "execution_count": 42,
      "outputs": [
        {
          "output_type": "execute_result",
          "data": {
            "text/plain": [
              "work_status                     0\n",
              "occupation                      0\n",
              "prestige                     8804\n",
              "workplace_classification    13548\n",
              "marital_status                  0\n",
              "divorce                        39\n",
              "marriage_type               11980\n",
              "spouse_prestige                 0\n",
              "respondent_prestige             0\n",
              "spouse_occupation               0\n",
              "marriage_happiness              0\n",
              "age                           107\n",
              "educ                           27\n",
              "sex                            14\n",
              "income16                    12002\n",
              "income                        938\n",
              "prestg105plus                1295\n",
              "spouse_hours_worked             0\n",
              "respondent_hours_worked         0\n",
              "dtype: int64"
            ]
          },
          "metadata": {},
          "execution_count": 42
        }
      ]
    },
    {
      "cell_type": "code",
      "source": [
        "missing_respondent_hours_worked_count = df_prestige_hapmar_hours['respondent_hours_worked'].isna().sum()\n",
        "missing_spouse_hours_worked_count = df_prestige_hapmar_hours['spouse_hours_worked'].isna().sum()\n",
        "row_count = len(df_prestige_hapmar_hours)\n",
        "percent_respondent_hours_worked = (missing_respondent_hours_worked_count / row_count) * 100\n",
        "print(percent_respondent_hours_worked, \"% of the respondent_hours_worked rows are NaN\")\n",
        "percent_spouse_hours_worked = (missing_spouse_hours_worked_count / row_count) * 100\n",
        "print(percent_spouse_hours_worked, \"% of the spouse_hours_worked rows are NaN\")"
      ],
      "metadata": {
        "colab": {
          "base_uri": "https://localhost:8080/"
        },
        "id": "t8zoSdeNiinG",
        "outputId": "ec864df5-de4a-435b-d298-cfae21ef2a91"
      },
      "execution_count": 43,
      "outputs": [
        {
          "output_type": "stream",
          "name": "stdout",
          "text": [
            "0.0 % of the respondent_hours_worked rows are NaN\n",
            "0.0 % of the spouse_hours_worked rows are NaN\n"
          ]
        }
      ]
    },
    {
      "cell_type": "code",
      "source": [
        "df_prestige_hapmar_hours = df_prestige_hapmar_hours.reset_index(drop=True)\n",
        "df_prestige_hapmar_hours.index = df_prestige_hapmar_hours.index + 1\n",
        "final_df = df_prestige_hapmar_hours"
      ],
      "metadata": {
        "id": "g4kZ6NCSXXUh"
      },
      "execution_count": 44,
      "outputs": []
    },
    {
      "cell_type": "code",
      "source": [
        "final_df.drop(columns=['marriage_type', 'workplace_classification', 'income16', 'divorce', 'prestige', 'prestg105plus'], inplace = True)\n",
        "final_df.head(3)"
      ],
      "metadata": {
        "colab": {
          "base_uri": "https://localhost:8080/",
          "height": 302
        },
        "id": "ALADXPSTZAiJ",
        "outputId": "2c838c5d-f332-4c7d-f609-39817bc2a13d"
      },
      "execution_count": 45,
      "outputs": [
        {
          "output_type": "execute_result",
          "data": {
            "text/plain": [
              "         work_status                                         occupation  \\\n",
              "1  working full time  inspectors, testers, sorters, samplers, and we...   \n",
              "2  working full time                     stock clerks and order fillers   \n",
              "3  working full time                                retail salespersons   \n",
              "\n",
              "  marital_status  spouse_prestige  respondent_prestige  \\\n",
              "1        married             35.0                 39.0   \n",
              "2        married             29.0                 25.0   \n",
              "3        married             45.0                 31.0   \n",
              "\n",
              "                              spouse_occupation marriage_happiness   age  \\\n",
              "1        painters, construction and maintenance         very happy  36.0   \n",
              "2           print binding and finishing workers         very happy  32.0   \n",
              "3  bookkeeping, accounting, and auditing clerks         very happy  55.0   \n",
              "\n",
              "   educ     sex   income  spouse_hours_worked  respondent_hours_worked  \n",
              "1  11.0  female  12500.0                 40.0                     40.0  \n",
              "2  12.0    male  12500.0                 37.0                     40.0  \n",
              "3  12.0    male   5500.0                 44.0                     60.0  "
            ],
            "text/html": [
              "\n",
              "  <div id=\"df-d99add99-5fdb-4a94-8954-d7de66dd866e\" class=\"colab-df-container\">\n",
              "    <div>\n",
              "<style scoped>\n",
              "    .dataframe tbody tr th:only-of-type {\n",
              "        vertical-align: middle;\n",
              "    }\n",
              "\n",
              "    .dataframe tbody tr th {\n",
              "        vertical-align: top;\n",
              "    }\n",
              "\n",
              "    .dataframe thead th {\n",
              "        text-align: right;\n",
              "    }\n",
              "</style>\n",
              "<table border=\"1\" class=\"dataframe\">\n",
              "  <thead>\n",
              "    <tr style=\"text-align: right;\">\n",
              "      <th></th>\n",
              "      <th>work_status</th>\n",
              "      <th>occupation</th>\n",
              "      <th>marital_status</th>\n",
              "      <th>spouse_prestige</th>\n",
              "      <th>respondent_prestige</th>\n",
              "      <th>spouse_occupation</th>\n",
              "      <th>marriage_happiness</th>\n",
              "      <th>age</th>\n",
              "      <th>educ</th>\n",
              "      <th>sex</th>\n",
              "      <th>income</th>\n",
              "      <th>spouse_hours_worked</th>\n",
              "      <th>respondent_hours_worked</th>\n",
              "    </tr>\n",
              "  </thead>\n",
              "  <tbody>\n",
              "    <tr>\n",
              "      <th>1</th>\n",
              "      <td>working full time</td>\n",
              "      <td>inspectors, testers, sorters, samplers, and we...</td>\n",
              "      <td>married</td>\n",
              "      <td>35.0</td>\n",
              "      <td>39.0</td>\n",
              "      <td>painters, construction and maintenance</td>\n",
              "      <td>very happy</td>\n",
              "      <td>36.0</td>\n",
              "      <td>11.0</td>\n",
              "      <td>female</td>\n",
              "      <td>12500.0</td>\n",
              "      <td>40.0</td>\n",
              "      <td>40.0</td>\n",
              "    </tr>\n",
              "    <tr>\n",
              "      <th>2</th>\n",
              "      <td>working full time</td>\n",
              "      <td>stock clerks and order fillers</td>\n",
              "      <td>married</td>\n",
              "      <td>29.0</td>\n",
              "      <td>25.0</td>\n",
              "      <td>print binding and finishing workers</td>\n",
              "      <td>very happy</td>\n",
              "      <td>32.0</td>\n",
              "      <td>12.0</td>\n",
              "      <td>male</td>\n",
              "      <td>12500.0</td>\n",
              "      <td>37.0</td>\n",
              "      <td>40.0</td>\n",
              "    </tr>\n",
              "    <tr>\n",
              "      <th>3</th>\n",
              "      <td>working full time</td>\n",
              "      <td>retail salespersons</td>\n",
              "      <td>married</td>\n",
              "      <td>45.0</td>\n",
              "      <td>31.0</td>\n",
              "      <td>bookkeeping, accounting, and auditing clerks</td>\n",
              "      <td>very happy</td>\n",
              "      <td>55.0</td>\n",
              "      <td>12.0</td>\n",
              "      <td>male</td>\n",
              "      <td>5500.0</td>\n",
              "      <td>44.0</td>\n",
              "      <td>60.0</td>\n",
              "    </tr>\n",
              "  </tbody>\n",
              "</table>\n",
              "</div>\n",
              "    <div class=\"colab-df-buttons\">\n",
              "\n",
              "  <div class=\"colab-df-container\">\n",
              "    <button class=\"colab-df-convert\" onclick=\"convertToInteractive('df-d99add99-5fdb-4a94-8954-d7de66dd866e')\"\n",
              "            title=\"Convert this dataframe to an interactive table.\"\n",
              "            style=\"display:none;\">\n",
              "\n",
              "  <svg xmlns=\"http://www.w3.org/2000/svg\" height=\"24px\" viewBox=\"0 -960 960 960\">\n",
              "    <path d=\"M120-120v-720h720v720H120Zm60-500h600v-160H180v160Zm220 220h160v-160H400v160Zm0 220h160v-160H400v160ZM180-400h160v-160H180v160Zm440 0h160v-160H620v160ZM180-180h160v-160H180v160Zm440 0h160v-160H620v160Z\"/>\n",
              "  </svg>\n",
              "    </button>\n",
              "\n",
              "  <style>\n",
              "    .colab-df-container {\n",
              "      display:flex;\n",
              "      gap: 12px;\n",
              "    }\n",
              "\n",
              "    .colab-df-convert {\n",
              "      background-color: #E8F0FE;\n",
              "      border: none;\n",
              "      border-radius: 50%;\n",
              "      cursor: pointer;\n",
              "      display: none;\n",
              "      fill: #1967D2;\n",
              "      height: 32px;\n",
              "      padding: 0 0 0 0;\n",
              "      width: 32px;\n",
              "    }\n",
              "\n",
              "    .colab-df-convert:hover {\n",
              "      background-color: #E2EBFA;\n",
              "      box-shadow: 0px 1px 2px rgba(60, 64, 67, 0.3), 0px 1px 3px 1px rgba(60, 64, 67, 0.15);\n",
              "      fill: #174EA6;\n",
              "    }\n",
              "\n",
              "    .colab-df-buttons div {\n",
              "      margin-bottom: 4px;\n",
              "    }\n",
              "\n",
              "    [theme=dark] .colab-df-convert {\n",
              "      background-color: #3B4455;\n",
              "      fill: #D2E3FC;\n",
              "    }\n",
              "\n",
              "    [theme=dark] .colab-df-convert:hover {\n",
              "      background-color: #434B5C;\n",
              "      box-shadow: 0px 1px 3px 1px rgba(0, 0, 0, 0.15);\n",
              "      filter: drop-shadow(0px 1px 2px rgba(0, 0, 0, 0.3));\n",
              "      fill: #FFFFFF;\n",
              "    }\n",
              "  </style>\n",
              "\n",
              "    <script>\n",
              "      const buttonEl =\n",
              "        document.querySelector('#df-d99add99-5fdb-4a94-8954-d7de66dd866e button.colab-df-convert');\n",
              "      buttonEl.style.display =\n",
              "        google.colab.kernel.accessAllowed ? 'block' : 'none';\n",
              "\n",
              "      async function convertToInteractive(key) {\n",
              "        const element = document.querySelector('#df-d99add99-5fdb-4a94-8954-d7de66dd866e');\n",
              "        const dataTable =\n",
              "          await google.colab.kernel.invokeFunction('convertToInteractive',\n",
              "                                                    [key], {});\n",
              "        if (!dataTable) return;\n",
              "\n",
              "        const docLinkHtml = 'Like what you see? Visit the ' +\n",
              "          '<a target=\"_blank\" href=https://colab.research.google.com/notebooks/data_table.ipynb>data table notebook</a>'\n",
              "          + ' to learn more about interactive tables.';\n",
              "        element.innerHTML = '';\n",
              "        dataTable['output_type'] = 'display_data';\n",
              "        await google.colab.output.renderOutput(dataTable, element);\n",
              "        const docLink = document.createElement('div');\n",
              "        docLink.innerHTML = docLinkHtml;\n",
              "        element.appendChild(docLink);\n",
              "      }\n",
              "    </script>\n",
              "  </div>\n",
              "\n",
              "\n",
              "<div id=\"df-8c5f0a1d-b4ff-44e3-a2c7-c7efe04833fa\">\n",
              "  <button class=\"colab-df-quickchart\" onclick=\"quickchart('df-8c5f0a1d-b4ff-44e3-a2c7-c7efe04833fa')\"\n",
              "            title=\"Suggest charts\"\n",
              "            style=\"display:none;\">\n",
              "\n",
              "<svg xmlns=\"http://www.w3.org/2000/svg\" height=\"24px\"viewBox=\"0 0 24 24\"\n",
              "     width=\"24px\">\n",
              "    <g>\n",
              "        <path d=\"M19 3H5c-1.1 0-2 .9-2 2v14c0 1.1.9 2 2 2h14c1.1 0 2-.9 2-2V5c0-1.1-.9-2-2-2zM9 17H7v-7h2v7zm4 0h-2V7h2v10zm4 0h-2v-4h2v4z\"/>\n",
              "    </g>\n",
              "</svg>\n",
              "  </button>\n",
              "\n",
              "<style>\n",
              "  .colab-df-quickchart {\n",
              "      --bg-color: #E8F0FE;\n",
              "      --fill-color: #1967D2;\n",
              "      --hover-bg-color: #E2EBFA;\n",
              "      --hover-fill-color: #174EA6;\n",
              "      --disabled-fill-color: #AAA;\n",
              "      --disabled-bg-color: #DDD;\n",
              "  }\n",
              "\n",
              "  [theme=dark] .colab-df-quickchart {\n",
              "      --bg-color: #3B4455;\n",
              "      --fill-color: #D2E3FC;\n",
              "      --hover-bg-color: #434B5C;\n",
              "      --hover-fill-color: #FFFFFF;\n",
              "      --disabled-bg-color: #3B4455;\n",
              "      --disabled-fill-color: #666;\n",
              "  }\n",
              "\n",
              "  .colab-df-quickchart {\n",
              "    background-color: var(--bg-color);\n",
              "    border: none;\n",
              "    border-radius: 50%;\n",
              "    cursor: pointer;\n",
              "    display: none;\n",
              "    fill: var(--fill-color);\n",
              "    height: 32px;\n",
              "    padding: 0;\n",
              "    width: 32px;\n",
              "  }\n",
              "\n",
              "  .colab-df-quickchart:hover {\n",
              "    background-color: var(--hover-bg-color);\n",
              "    box-shadow: 0 1px 2px rgba(60, 64, 67, 0.3), 0 1px 3px 1px rgba(60, 64, 67, 0.15);\n",
              "    fill: var(--button-hover-fill-color);\n",
              "  }\n",
              "\n",
              "  .colab-df-quickchart-complete:disabled,\n",
              "  .colab-df-quickchart-complete:disabled:hover {\n",
              "    background-color: var(--disabled-bg-color);\n",
              "    fill: var(--disabled-fill-color);\n",
              "    box-shadow: none;\n",
              "  }\n",
              "\n",
              "  .colab-df-spinner {\n",
              "    border: 2px solid var(--fill-color);\n",
              "    border-color: transparent;\n",
              "    border-bottom-color: var(--fill-color);\n",
              "    animation:\n",
              "      spin 1s steps(1) infinite;\n",
              "  }\n",
              "\n",
              "  @keyframes spin {\n",
              "    0% {\n",
              "      border-color: transparent;\n",
              "      border-bottom-color: var(--fill-color);\n",
              "      border-left-color: var(--fill-color);\n",
              "    }\n",
              "    20% {\n",
              "      border-color: transparent;\n",
              "      border-left-color: var(--fill-color);\n",
              "      border-top-color: var(--fill-color);\n",
              "    }\n",
              "    30% {\n",
              "      border-color: transparent;\n",
              "      border-left-color: var(--fill-color);\n",
              "      border-top-color: var(--fill-color);\n",
              "      border-right-color: var(--fill-color);\n",
              "    }\n",
              "    40% {\n",
              "      border-color: transparent;\n",
              "      border-right-color: var(--fill-color);\n",
              "      border-top-color: var(--fill-color);\n",
              "    }\n",
              "    60% {\n",
              "      border-color: transparent;\n",
              "      border-right-color: var(--fill-color);\n",
              "    }\n",
              "    80% {\n",
              "      border-color: transparent;\n",
              "      border-right-color: var(--fill-color);\n",
              "      border-bottom-color: var(--fill-color);\n",
              "    }\n",
              "    90% {\n",
              "      border-color: transparent;\n",
              "      border-bottom-color: var(--fill-color);\n",
              "    }\n",
              "  }\n",
              "</style>\n",
              "\n",
              "  <script>\n",
              "    async function quickchart(key) {\n",
              "      const quickchartButtonEl =\n",
              "        document.querySelector('#' + key + ' button');\n",
              "      quickchartButtonEl.disabled = true;  // To prevent multiple clicks.\n",
              "      quickchartButtonEl.classList.add('colab-df-spinner');\n",
              "      try {\n",
              "        const charts = await google.colab.kernel.invokeFunction(\n",
              "            'suggestCharts', [key], {});\n",
              "      } catch (error) {\n",
              "        console.error('Error during call to suggestCharts:', error);\n",
              "      }\n",
              "      quickchartButtonEl.classList.remove('colab-df-spinner');\n",
              "      quickchartButtonEl.classList.add('colab-df-quickchart-complete');\n",
              "    }\n",
              "    (() => {\n",
              "      let quickchartButtonEl =\n",
              "        document.querySelector('#df-8c5f0a1d-b4ff-44e3-a2c7-c7efe04833fa button');\n",
              "      quickchartButtonEl.style.display =\n",
              "        google.colab.kernel.accessAllowed ? 'block' : 'none';\n",
              "    })();\n",
              "  </script>\n",
              "</div>\n",
              "    </div>\n",
              "  </div>\n"
            ],
            "application/vnd.google.colaboratory.intrinsic+json": {
              "type": "dataframe",
              "variable_name": "final_df",
              "summary": "{\n  \"name\": \"final_df\",\n  \"rows\": 14122,\n  \"fields\": [\n    {\n      \"column\": \"work_status\",\n      \"properties\": {\n        \"dtype\": \"category\",\n        \"samples\": [\n          \"working part time\",\n          \"working full time\"\n        ],\n        \"num_unique_values\": 2,\n        \"semantic_type\": \"\",\n        \"description\": \"\"\n      }\n    },\n    {\n      \"column\": \"occupation\",\n      \"properties\": {\n        \"dtype\": \"category\",\n        \"samples\": [\n          \"massage therapists\",\n          \"maids and housekeeping cleaners\"\n        ],\n        \"num_unique_values\": 499,\n        \"semantic_type\": \"\",\n        \"description\": \"\"\n      }\n    },\n    {\n      \"column\": \"marital_status\",\n      \"properties\": {\n        \"dtype\": \"category\",\n        \"samples\": [\n          \"married\"\n        ],\n        \"num_unique_values\": 1,\n        \"semantic_type\": \"\",\n        \"description\": \"\"\n      }\n    },\n    {\n      \"column\": \"spouse_prestige\",\n      \"properties\": {\n        \"dtype\": \"number\",\n        \"std\": 12.99585559061324,\n        \"min\": 16.0,\n        \"max\": 80.0,\n        \"samples\": [\n          35.0\n        ],\n        \"num_unique_values\": 61,\n        \"semantic_type\": \"\",\n        \"description\": \"\"\n      }\n    },\n    {\n      \"column\": \"respondent_prestige\",\n      \"properties\": {\n        \"dtype\": \"number\",\n        \"std\": 12.987407818396793,\n        \"min\": 16.0,\n        \"max\": 80.0,\n        \"samples\": [\n          39.0\n        ],\n        \"num_unique_values\": 60,\n        \"semantic_type\": \"\",\n        \"description\": \"\"\n      }\n    },\n    {\n      \"column\": \"spouse_occupation\",\n      \"properties\": {\n        \"dtype\": \"category\",\n        \"samples\": [\n          \"fishers and related fishing workers\"\n        ],\n        \"num_unique_values\": 502,\n        \"semantic_type\": \"\",\n        \"description\": \"\"\n      }\n    },\n    {\n      \"column\": \"marriage_happiness\",\n      \"properties\": {\n        \"dtype\": \"category\",\n        \"samples\": [\n          \"very happy\"\n        ],\n        \"num_unique_values\": 3,\n        \"semantic_type\": \"\",\n        \"description\": \"\"\n      }\n    },\n    {\n      \"column\": \"age\",\n      \"properties\": {\n        \"dtype\": \"number\",\n        \"std\": 11.431608117810605,\n        \"min\": 18.0,\n        \"max\": 89.0,\n        \"samples\": [\n          66.0\n        ],\n        \"num_unique_values\": 68,\n        \"semantic_type\": \"\",\n        \"description\": \"\"\n      }\n    },\n    {\n      \"column\": \"educ\",\n      \"properties\": {\n        \"dtype\": \"number\",\n        \"std\": 2.877374996757351,\n        \"min\": 0.0,\n        \"max\": 20.0,\n        \"samples\": [\n          11.0\n        ],\n        \"num_unique_values\": 21,\n        \"semantic_type\": \"\",\n        \"description\": \"\"\n      }\n    },\n    {\n      \"column\": \"sex\",\n      \"properties\": {\n        \"dtype\": \"category\",\n        \"samples\": [\n          \"male\"\n        ],\n        \"num_unique_values\": 2,\n        \"semantic_type\": \"\",\n        \"description\": \"\"\n      }\n    },\n    {\n      \"column\": \"income\",\n      \"properties\": {\n        \"dtype\": \"number\",\n        \"std\": 4602.61104535298,\n        \"min\": 1000.0,\n        \"max\": 25000.0,\n        \"samples\": [\n          2000.0\n        ],\n        \"num_unique_values\": 12,\n        \"semantic_type\": \"\",\n        \"description\": \"\"\n      }\n    },\n    {\n      \"column\": \"spouse_hours_worked\",\n      \"properties\": {\n        \"dtype\": \"number\",\n        \"std\": 12.953262624270105,\n        \"min\": 0.0,\n        \"max\": 89.0,\n        \"samples\": [\n          63.0\n        ],\n        \"num_unique_values\": 87,\n        \"semantic_type\": \"\",\n        \"description\": \"\"\n      }\n    },\n    {\n      \"column\": \"respondent_hours_worked\",\n      \"properties\": {\n        \"dtype\": \"number\",\n        \"std\": 13.966894169253983,\n        \"min\": 0.0,\n        \"max\": 89.0,\n        \"samples\": [\n          53.0\n        ],\n        \"num_unique_values\": 90,\n        \"semantic_type\": \"\",\n        \"description\": \"\"\n      }\n    }\n  ]\n}"
            }
          },
          "metadata": {},
          "execution_count": 45
        }
      ]
    },
    {
      "cell_type": "code",
      "source": [
        "final_df.shape"
      ],
      "metadata": {
        "colab": {
          "base_uri": "https://localhost:8080/"
        },
        "id": "US9U25E1aT6x",
        "outputId": "d5732ba2-96c5-4ee1-89cf-b474e9239e0e"
      },
      "execution_count": 46,
      "outputs": [
        {
          "output_type": "execute_result",
          "data": {
            "text/plain": [
              "(14122, 13)"
            ]
          },
          "metadata": {},
          "execution_count": 46
        }
      ]
    },
    {
      "cell_type": "code",
      "source": [
        "new_col_order = ['age', 'sex', 'educ', 'marital_status','work_status', 'occupation', 'respondent_prestige', 'respondent_hours_worked', 'income', 'spouse_occupation', 'spouse_prestige', 'spouse_hours_worked', 'marriage_happiness']\n",
        "len(new_col_order)"
      ],
      "metadata": {
        "colab": {
          "base_uri": "https://localhost:8080/"
        },
        "id": "lzqu1sAec6d3",
        "outputId": "d03ffd3d-0b4c-47ca-9c56-4fedf2c7c5eb"
      },
      "execution_count": 47,
      "outputs": [
        {
          "output_type": "execute_result",
          "data": {
            "text/plain": [
              "13"
            ]
          },
          "metadata": {},
          "execution_count": 47
        }
      ]
    },
    {
      "cell_type": "code",
      "source": [
        "final_df = final_df[new_col_order]\n",
        "final_df.head(3)"
      ],
      "metadata": {
        "colab": {
          "base_uri": "https://localhost:8080/",
          "height": 302
        },
        "id": "_YQW-nXjdq8M",
        "outputId": "5b9aca9b-e6f1-405e-9e32-b3cacd0a8c5b"
      },
      "execution_count": 48,
      "outputs": [
        {
          "output_type": "execute_result",
          "data": {
            "text/plain": [
              "    age     sex  educ marital_status        work_status  \\\n",
              "1  36.0  female  11.0        married  working full time   \n",
              "2  32.0    male  12.0        married  working full time   \n",
              "3  55.0    male  12.0        married  working full time   \n",
              "\n",
              "                                          occupation  respondent_prestige  \\\n",
              "1  inspectors, testers, sorters, samplers, and we...                 39.0   \n",
              "2                     stock clerks and order fillers                 25.0   \n",
              "3                                retail salespersons                 31.0   \n",
              "\n",
              "   respondent_hours_worked   income  \\\n",
              "1                     40.0  12500.0   \n",
              "2                     40.0  12500.0   \n",
              "3                     60.0   5500.0   \n",
              "\n",
              "                              spouse_occupation  spouse_prestige  \\\n",
              "1        painters, construction and maintenance             35.0   \n",
              "2           print binding and finishing workers             29.0   \n",
              "3  bookkeeping, accounting, and auditing clerks             45.0   \n",
              "\n",
              "   spouse_hours_worked marriage_happiness  \n",
              "1                 40.0         very happy  \n",
              "2                 37.0         very happy  \n",
              "3                 44.0         very happy  "
            ],
            "text/html": [
              "\n",
              "  <div id=\"df-eefefa43-a56b-4222-acd2-7b799868612e\" class=\"colab-df-container\">\n",
              "    <div>\n",
              "<style scoped>\n",
              "    .dataframe tbody tr th:only-of-type {\n",
              "        vertical-align: middle;\n",
              "    }\n",
              "\n",
              "    .dataframe tbody tr th {\n",
              "        vertical-align: top;\n",
              "    }\n",
              "\n",
              "    .dataframe thead th {\n",
              "        text-align: right;\n",
              "    }\n",
              "</style>\n",
              "<table border=\"1\" class=\"dataframe\">\n",
              "  <thead>\n",
              "    <tr style=\"text-align: right;\">\n",
              "      <th></th>\n",
              "      <th>age</th>\n",
              "      <th>sex</th>\n",
              "      <th>educ</th>\n",
              "      <th>marital_status</th>\n",
              "      <th>work_status</th>\n",
              "      <th>occupation</th>\n",
              "      <th>respondent_prestige</th>\n",
              "      <th>respondent_hours_worked</th>\n",
              "      <th>income</th>\n",
              "      <th>spouse_occupation</th>\n",
              "      <th>spouse_prestige</th>\n",
              "      <th>spouse_hours_worked</th>\n",
              "      <th>marriage_happiness</th>\n",
              "    </tr>\n",
              "  </thead>\n",
              "  <tbody>\n",
              "    <tr>\n",
              "      <th>1</th>\n",
              "      <td>36.0</td>\n",
              "      <td>female</td>\n",
              "      <td>11.0</td>\n",
              "      <td>married</td>\n",
              "      <td>working full time</td>\n",
              "      <td>inspectors, testers, sorters, samplers, and we...</td>\n",
              "      <td>39.0</td>\n",
              "      <td>40.0</td>\n",
              "      <td>12500.0</td>\n",
              "      <td>painters, construction and maintenance</td>\n",
              "      <td>35.0</td>\n",
              "      <td>40.0</td>\n",
              "      <td>very happy</td>\n",
              "    </tr>\n",
              "    <tr>\n",
              "      <th>2</th>\n",
              "      <td>32.0</td>\n",
              "      <td>male</td>\n",
              "      <td>12.0</td>\n",
              "      <td>married</td>\n",
              "      <td>working full time</td>\n",
              "      <td>stock clerks and order fillers</td>\n",
              "      <td>25.0</td>\n",
              "      <td>40.0</td>\n",
              "      <td>12500.0</td>\n",
              "      <td>print binding and finishing workers</td>\n",
              "      <td>29.0</td>\n",
              "      <td>37.0</td>\n",
              "      <td>very happy</td>\n",
              "    </tr>\n",
              "    <tr>\n",
              "      <th>3</th>\n",
              "      <td>55.0</td>\n",
              "      <td>male</td>\n",
              "      <td>12.0</td>\n",
              "      <td>married</td>\n",
              "      <td>working full time</td>\n",
              "      <td>retail salespersons</td>\n",
              "      <td>31.0</td>\n",
              "      <td>60.0</td>\n",
              "      <td>5500.0</td>\n",
              "      <td>bookkeeping, accounting, and auditing clerks</td>\n",
              "      <td>45.0</td>\n",
              "      <td>44.0</td>\n",
              "      <td>very happy</td>\n",
              "    </tr>\n",
              "  </tbody>\n",
              "</table>\n",
              "</div>\n",
              "    <div class=\"colab-df-buttons\">\n",
              "\n",
              "  <div class=\"colab-df-container\">\n",
              "    <button class=\"colab-df-convert\" onclick=\"convertToInteractive('df-eefefa43-a56b-4222-acd2-7b799868612e')\"\n",
              "            title=\"Convert this dataframe to an interactive table.\"\n",
              "            style=\"display:none;\">\n",
              "\n",
              "  <svg xmlns=\"http://www.w3.org/2000/svg\" height=\"24px\" viewBox=\"0 -960 960 960\">\n",
              "    <path d=\"M120-120v-720h720v720H120Zm60-500h600v-160H180v160Zm220 220h160v-160H400v160Zm0 220h160v-160H400v160ZM180-400h160v-160H180v160Zm440 0h160v-160H620v160ZM180-180h160v-160H180v160Zm440 0h160v-160H620v160Z\"/>\n",
              "  </svg>\n",
              "    </button>\n",
              "\n",
              "  <style>\n",
              "    .colab-df-container {\n",
              "      display:flex;\n",
              "      gap: 12px;\n",
              "    }\n",
              "\n",
              "    .colab-df-convert {\n",
              "      background-color: #E8F0FE;\n",
              "      border: none;\n",
              "      border-radius: 50%;\n",
              "      cursor: pointer;\n",
              "      display: none;\n",
              "      fill: #1967D2;\n",
              "      height: 32px;\n",
              "      padding: 0 0 0 0;\n",
              "      width: 32px;\n",
              "    }\n",
              "\n",
              "    .colab-df-convert:hover {\n",
              "      background-color: #E2EBFA;\n",
              "      box-shadow: 0px 1px 2px rgba(60, 64, 67, 0.3), 0px 1px 3px 1px rgba(60, 64, 67, 0.15);\n",
              "      fill: #174EA6;\n",
              "    }\n",
              "\n",
              "    .colab-df-buttons div {\n",
              "      margin-bottom: 4px;\n",
              "    }\n",
              "\n",
              "    [theme=dark] .colab-df-convert {\n",
              "      background-color: #3B4455;\n",
              "      fill: #D2E3FC;\n",
              "    }\n",
              "\n",
              "    [theme=dark] .colab-df-convert:hover {\n",
              "      background-color: #434B5C;\n",
              "      box-shadow: 0px 1px 3px 1px rgba(0, 0, 0, 0.15);\n",
              "      filter: drop-shadow(0px 1px 2px rgba(0, 0, 0, 0.3));\n",
              "      fill: #FFFFFF;\n",
              "    }\n",
              "  </style>\n",
              "\n",
              "    <script>\n",
              "      const buttonEl =\n",
              "        document.querySelector('#df-eefefa43-a56b-4222-acd2-7b799868612e button.colab-df-convert');\n",
              "      buttonEl.style.display =\n",
              "        google.colab.kernel.accessAllowed ? 'block' : 'none';\n",
              "\n",
              "      async function convertToInteractive(key) {\n",
              "        const element = document.querySelector('#df-eefefa43-a56b-4222-acd2-7b799868612e');\n",
              "        const dataTable =\n",
              "          await google.colab.kernel.invokeFunction('convertToInteractive',\n",
              "                                                    [key], {});\n",
              "        if (!dataTable) return;\n",
              "\n",
              "        const docLinkHtml = 'Like what you see? Visit the ' +\n",
              "          '<a target=\"_blank\" href=https://colab.research.google.com/notebooks/data_table.ipynb>data table notebook</a>'\n",
              "          + ' to learn more about interactive tables.';\n",
              "        element.innerHTML = '';\n",
              "        dataTable['output_type'] = 'display_data';\n",
              "        await google.colab.output.renderOutput(dataTable, element);\n",
              "        const docLink = document.createElement('div');\n",
              "        docLink.innerHTML = docLinkHtml;\n",
              "        element.appendChild(docLink);\n",
              "      }\n",
              "    </script>\n",
              "  </div>\n",
              "\n",
              "\n",
              "<div id=\"df-5303ca59-0976-4d38-b406-2e938dfb4cc6\">\n",
              "  <button class=\"colab-df-quickchart\" onclick=\"quickchart('df-5303ca59-0976-4d38-b406-2e938dfb4cc6')\"\n",
              "            title=\"Suggest charts\"\n",
              "            style=\"display:none;\">\n",
              "\n",
              "<svg xmlns=\"http://www.w3.org/2000/svg\" height=\"24px\"viewBox=\"0 0 24 24\"\n",
              "     width=\"24px\">\n",
              "    <g>\n",
              "        <path d=\"M19 3H5c-1.1 0-2 .9-2 2v14c0 1.1.9 2 2 2h14c1.1 0 2-.9 2-2V5c0-1.1-.9-2-2-2zM9 17H7v-7h2v7zm4 0h-2V7h2v10zm4 0h-2v-4h2v4z\"/>\n",
              "    </g>\n",
              "</svg>\n",
              "  </button>\n",
              "\n",
              "<style>\n",
              "  .colab-df-quickchart {\n",
              "      --bg-color: #E8F0FE;\n",
              "      --fill-color: #1967D2;\n",
              "      --hover-bg-color: #E2EBFA;\n",
              "      --hover-fill-color: #174EA6;\n",
              "      --disabled-fill-color: #AAA;\n",
              "      --disabled-bg-color: #DDD;\n",
              "  }\n",
              "\n",
              "  [theme=dark] .colab-df-quickchart {\n",
              "      --bg-color: #3B4455;\n",
              "      --fill-color: #D2E3FC;\n",
              "      --hover-bg-color: #434B5C;\n",
              "      --hover-fill-color: #FFFFFF;\n",
              "      --disabled-bg-color: #3B4455;\n",
              "      --disabled-fill-color: #666;\n",
              "  }\n",
              "\n",
              "  .colab-df-quickchart {\n",
              "    background-color: var(--bg-color);\n",
              "    border: none;\n",
              "    border-radius: 50%;\n",
              "    cursor: pointer;\n",
              "    display: none;\n",
              "    fill: var(--fill-color);\n",
              "    height: 32px;\n",
              "    padding: 0;\n",
              "    width: 32px;\n",
              "  }\n",
              "\n",
              "  .colab-df-quickchart:hover {\n",
              "    background-color: var(--hover-bg-color);\n",
              "    box-shadow: 0 1px 2px rgba(60, 64, 67, 0.3), 0 1px 3px 1px rgba(60, 64, 67, 0.15);\n",
              "    fill: var(--button-hover-fill-color);\n",
              "  }\n",
              "\n",
              "  .colab-df-quickchart-complete:disabled,\n",
              "  .colab-df-quickchart-complete:disabled:hover {\n",
              "    background-color: var(--disabled-bg-color);\n",
              "    fill: var(--disabled-fill-color);\n",
              "    box-shadow: none;\n",
              "  }\n",
              "\n",
              "  .colab-df-spinner {\n",
              "    border: 2px solid var(--fill-color);\n",
              "    border-color: transparent;\n",
              "    border-bottom-color: var(--fill-color);\n",
              "    animation:\n",
              "      spin 1s steps(1) infinite;\n",
              "  }\n",
              "\n",
              "  @keyframes spin {\n",
              "    0% {\n",
              "      border-color: transparent;\n",
              "      border-bottom-color: var(--fill-color);\n",
              "      border-left-color: var(--fill-color);\n",
              "    }\n",
              "    20% {\n",
              "      border-color: transparent;\n",
              "      border-left-color: var(--fill-color);\n",
              "      border-top-color: var(--fill-color);\n",
              "    }\n",
              "    30% {\n",
              "      border-color: transparent;\n",
              "      border-left-color: var(--fill-color);\n",
              "      border-top-color: var(--fill-color);\n",
              "      border-right-color: var(--fill-color);\n",
              "    }\n",
              "    40% {\n",
              "      border-color: transparent;\n",
              "      border-right-color: var(--fill-color);\n",
              "      border-top-color: var(--fill-color);\n",
              "    }\n",
              "    60% {\n",
              "      border-color: transparent;\n",
              "      border-right-color: var(--fill-color);\n",
              "    }\n",
              "    80% {\n",
              "      border-color: transparent;\n",
              "      border-right-color: var(--fill-color);\n",
              "      border-bottom-color: var(--fill-color);\n",
              "    }\n",
              "    90% {\n",
              "      border-color: transparent;\n",
              "      border-bottom-color: var(--fill-color);\n",
              "    }\n",
              "  }\n",
              "</style>\n",
              "\n",
              "  <script>\n",
              "    async function quickchart(key) {\n",
              "      const quickchartButtonEl =\n",
              "        document.querySelector('#' + key + ' button');\n",
              "      quickchartButtonEl.disabled = true;  // To prevent multiple clicks.\n",
              "      quickchartButtonEl.classList.add('colab-df-spinner');\n",
              "      try {\n",
              "        const charts = await google.colab.kernel.invokeFunction(\n",
              "            'suggestCharts', [key], {});\n",
              "      } catch (error) {\n",
              "        console.error('Error during call to suggestCharts:', error);\n",
              "      }\n",
              "      quickchartButtonEl.classList.remove('colab-df-spinner');\n",
              "      quickchartButtonEl.classList.add('colab-df-quickchart-complete');\n",
              "    }\n",
              "    (() => {\n",
              "      let quickchartButtonEl =\n",
              "        document.querySelector('#df-5303ca59-0976-4d38-b406-2e938dfb4cc6 button');\n",
              "      quickchartButtonEl.style.display =\n",
              "        google.colab.kernel.accessAllowed ? 'block' : 'none';\n",
              "    })();\n",
              "  </script>\n",
              "</div>\n",
              "    </div>\n",
              "  </div>\n"
            ],
            "application/vnd.google.colaboratory.intrinsic+json": {
              "type": "dataframe",
              "variable_name": "final_df",
              "summary": "{\n  \"name\": \"final_df\",\n  \"rows\": 14122,\n  \"fields\": [\n    {\n      \"column\": \"age\",\n      \"properties\": {\n        \"dtype\": \"number\",\n        \"std\": 11.431608117810605,\n        \"min\": 18.0,\n        \"max\": 89.0,\n        \"samples\": [\n          66.0,\n          51.0,\n          27.0\n        ],\n        \"num_unique_values\": 68,\n        \"semantic_type\": \"\",\n        \"description\": \"\"\n      }\n    },\n    {\n      \"column\": \"sex\",\n      \"properties\": {\n        \"dtype\": \"category\",\n        \"samples\": [\n          \"male\",\n          \"female\"\n        ],\n        \"num_unique_values\": 2,\n        \"semantic_type\": \"\",\n        \"description\": \"\"\n      }\n    },\n    {\n      \"column\": \"educ\",\n      \"properties\": {\n        \"dtype\": \"number\",\n        \"std\": 2.877374996757351,\n        \"min\": 0.0,\n        \"max\": 20.0,\n        \"samples\": [\n          11.0,\n          3.0\n        ],\n        \"num_unique_values\": 21,\n        \"semantic_type\": \"\",\n        \"description\": \"\"\n      }\n    },\n    {\n      \"column\": \"marital_status\",\n      \"properties\": {\n        \"dtype\": \"category\",\n        \"samples\": [\n          \"married\"\n        ],\n        \"num_unique_values\": 1,\n        \"semantic_type\": \"\",\n        \"description\": \"\"\n      }\n    },\n    {\n      \"column\": \"work_status\",\n      \"properties\": {\n        \"dtype\": \"category\",\n        \"samples\": [\n          \"working part time\"\n        ],\n        \"num_unique_values\": 2,\n        \"semantic_type\": \"\",\n        \"description\": \"\"\n      }\n    },\n    {\n      \"column\": \"occupation\",\n      \"properties\": {\n        \"dtype\": \"category\",\n        \"samples\": [\n          \"massage therapists\"\n        ],\n        \"num_unique_values\": 499,\n        \"semantic_type\": \"\",\n        \"description\": \"\"\n      }\n    },\n    {\n      \"column\": \"respondent_prestige\",\n      \"properties\": {\n        \"dtype\": \"number\",\n        \"std\": 12.987407818396793,\n        \"min\": 16.0,\n        \"max\": 80.0,\n        \"samples\": [\n          39.0\n        ],\n        \"num_unique_values\": 60,\n        \"semantic_type\": \"\",\n        \"description\": \"\"\n      }\n    },\n    {\n      \"column\": \"respondent_hours_worked\",\n      \"properties\": {\n        \"dtype\": \"number\",\n        \"std\": 13.966894169253983,\n        \"min\": 0.0,\n        \"max\": 89.0,\n        \"samples\": [\n          53.0\n        ],\n        \"num_unique_values\": 90,\n        \"semantic_type\": \"\",\n        \"description\": \"\"\n      }\n    },\n    {\n      \"column\": \"income\",\n      \"properties\": {\n        \"dtype\": \"number\",\n        \"std\": 4602.61104535298,\n        \"min\": 1000.0,\n        \"max\": 25000.0,\n        \"samples\": [\n          2000.0\n        ],\n        \"num_unique_values\": 12,\n        \"semantic_type\": \"\",\n        \"description\": \"\"\n      }\n    },\n    {\n      \"column\": \"spouse_occupation\",\n      \"properties\": {\n        \"dtype\": \"category\",\n        \"samples\": [\n          \"fishers and related fishing workers\"\n        ],\n        \"num_unique_values\": 502,\n        \"semantic_type\": \"\",\n        \"description\": \"\"\n      }\n    },\n    {\n      \"column\": \"spouse_prestige\",\n      \"properties\": {\n        \"dtype\": \"number\",\n        \"std\": 12.99585559061324,\n        \"min\": 16.0,\n        \"max\": 80.0,\n        \"samples\": [\n          35.0\n        ],\n        \"num_unique_values\": 61,\n        \"semantic_type\": \"\",\n        \"description\": \"\"\n      }\n    },\n    {\n      \"column\": \"spouse_hours_worked\",\n      \"properties\": {\n        \"dtype\": \"number\",\n        \"std\": 12.953262624270105,\n        \"min\": 0.0,\n        \"max\": 89.0,\n        \"samples\": [\n          63.0\n        ],\n        \"num_unique_values\": 87,\n        \"semantic_type\": \"\",\n        \"description\": \"\"\n      }\n    },\n    {\n      \"column\": \"marriage_happiness\",\n      \"properties\": {\n        \"dtype\": \"category\",\n        \"samples\": [\n          \"very happy\"\n        ],\n        \"num_unique_values\": 3,\n        \"semantic_type\": \"\",\n        \"description\": \"\"\n      }\n    }\n  ]\n}"
            }
          },
          "metadata": {},
          "execution_count": 48
        }
      ]
    },
    {
      "cell_type": "code",
      "source": [
        "# Lots of respondent and spouse hours worked are missing, so this may or may not\n",
        "# be used. Up to the visualization team"
      ],
      "metadata": {
        "id": "CXky3OQzgDLW"
      },
      "execution_count": 52,
      "outputs": []
    },
    {
      "cell_type": "markdown",
      "source": [
        "<font size=\"5\">**WRANGLING DOCUMENTATION**</font>\n",
        "\n",
        "Write notes about steps taken to wrangle the data here:\n",
        "\n",
        "1. DtypeWarning -- several columns have mixed types, and all columns are objects, which should not be the case -- changed numerical data columns to float64 dtypes\n",
        "\n",
        "2. Bad column names -- changed column names for clarity wherever possible\n",
        "\n",
        "3. 2 columns just had column names for every value -- threw these out\n",
        "\n",
        "4. Wanted to check if there was any difference between respondent_prestige and prestg105plus. Since there were no rows where prestg105plus had a value where respondent_prestige did not, we only included the respondent_prestige column. I also did this with income16 and income, as well as prestige and respondent_prestige.\n",
        "\n",
        "5. In the codebook, since the missing values for \"hapmar\" can be largely attributed to \"not applicable\" instead of \"no answer\" or \"skipped on web,\" we decided that it was valid to drop all of the rows that had NaN for this.\n",
        "\n",
        "6. Dropped several columns because they were too empty to be useful or just not really relevant"
      ],
      "metadata": {
        "id": "Ri9EqtYDdT_b"
      }
    },
    {
      "cell_type": "code",
      "source": [
        "from google.colab import drive\n",
        "drive.mount('/content/drive', force_remount = True)\n",
        "final_df.to_csv('/content/drive/My Drive/4th Year/IntroML/cleaned_gss.csv')"
      ],
      "metadata": {
        "colab": {
          "base_uri": "https://localhost:8080/"
        },
        "id": "7tiMkr4S1QKt",
        "outputId": "bb234959-e831-4127-b1ce-4931b073ac8d"
      },
      "execution_count": 50,
      "outputs": [
        {
          "output_type": "stream",
          "name": "stdout",
          "text": [
            "Mounted at /content/drive\n"
          ]
        }
      ]
    }
  ]
}