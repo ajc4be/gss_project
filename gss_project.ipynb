{
  "nbformat": 4,
  "nbformat_minor": 0,
  "metadata": {
    "colab": {
      "provenance": [],
      "include_colab_link": true
    },
    "kernelspec": {
      "name": "python3",
      "display_name": "Python 3"
    },
    "language_info": {
      "name": "python"
    }
  },
  "cells": [
    {
      "cell_type": "markdown",
      "metadata": {
        "id": "view-in-github",
        "colab_type": "text"
      },
      "source": [
        "<a href=\"https://colab.research.google.com/github/torrancefredell/gss_project/blob/main/gss_project.ipynb\" target=\"_parent\"><img src=\"https://colab.research.google.com/assets/colab-badge.svg\" alt=\"Open In Colab\"/></a>"
      ]
    },
    {
      "cell_type": "markdown",
      "source": [
        "<font size=\"5\">**GSS PROJECT**</font>\n",
        "\n",
        "Research question: How does occupational prestige and work-life balance influence marital satisfaction among married individuals in the US?"
      ],
      "metadata": {
        "id": "DgS4q0CDaHp7"
      }
    },
    {
      "cell_type": "code",
      "execution_count": null,
      "metadata": {
        "colab": {
          "base_uri": "https://localhost:8080/"
        },
        "id": "cixA96zHONcS",
        "outputId": "628931ef-ee5f-4b13-edde-44fd899edd11"
      },
      "outputs": [
        {
          "output_type": "stream",
          "name": "stdout",
          "text": [
            "Cloning into 'project_gss'...\n",
            "remote: Enumerating objects: 23, done.\u001b[K\n",
            "remote: Counting objects: 100% (23/23), done.\u001b[K\n",
            "remote: Compressing objects: 100% (23/23), done.\u001b[K\n",
            "remote: Total 23 (delta 6), reused 0 (delta 0), pack-reused 0\u001b[K\n",
            "Receiving objects: 100% (23/23), 23.94 MiB | 8.29 MiB/s, done.\n",
            "Resolving deltas: 100% (6/6), done.\n"
          ]
        }
      ],
      "source": [
        "! git clone https://github.com/DS3001/project_gss"
      ]
    },
    {
      "cell_type": "code",
      "source": [
        "import pandas as pd\n",
        "\n",
        "var_list = ['wrkstat', 'occ10', 'prestige', 'whatslf2', 'marital', 'divorce', 'martype',\n",
        "            'sppres10', 'prestg10', 'spocc10', 'hapmar', 'age', 'educ', 'sex', 'income16', 'income'] # List of variables you want to save\n",
        "output_filename = 'selected_gss_data.csv' # Name of the file you want to save the data to\n",
        "\n",
        "modes = ['w','a'] # Has write mode and append mode\n",
        "phase = 0 # Starts in write mode; after one iteration of loop, switches to append mode\n",
        "\n",
        "for k in range(3): # for each chunk of the data\n",
        "    url = 'https://github.com/DS3001/project_gss/raw/main/gss_chunk_' + str(1+k) + '.parquet' # Create url to the chunk to be processed\n",
        "    print(url) # Check the url is correct\n",
        "    df = pd.read_parquet(url) # Download this chunk of data\n",
        "    print(df.head()) # Visually inspect the first few rows\n",
        "    df.loc[:,var_list].to_csv(output_filename, # specifies target file to save the chunk to\n",
        "                              mode=modes[phase], # control write versus append\n",
        "                              header=var_list, # variable names\n",
        "                              index=False) # no row index saved\n",
        "    phase = 1 # Switch from write mode to append mode"
      ],
      "metadata": {
        "colab": {
          "base_uri": "https://localhost:8080/"
        },
        "id": "WMgDziswPh--",
        "outputId": "ef15eb07-656d-4688-e7b3-8d03414b5784"
      },
      "execution_count": 85,
      "outputs": [
        {
          "output_type": "stream",
          "name": "stdout",
          "text": [
            "https://github.com/DS3001/project_gss/raw/main/gss_chunk_1.parquet\n",
            "   year  id            wrkstat  hrs1  hrs2 evwork    occ  prestige  \\\n",
            "0  1972   1  working full time   NaN   NaN    NaN  205.0      50.0   \n",
            "1  1972   2            retired   NaN   NaN    yes  441.0      45.0   \n",
            "2  1972   3  working part time   NaN   NaN    NaN  270.0      44.0   \n",
            "3  1972   4  working full time   NaN   NaN    NaN    1.0      57.0   \n",
            "4  1972   5      keeping house   NaN   NaN    yes  385.0      40.0   \n",
            "\n",
            "         wrkslf wrkgovt  ...  agehef12 agehef13 agehef14  hompoph wtssps_nea  \\\n",
            "0  someone else     NaN  ...       NaN      NaN      NaN      NaN        NaN   \n",
            "1  someone else     NaN  ...       NaN      NaN      NaN      NaN        NaN   \n",
            "2  someone else     NaN  ...       NaN      NaN      NaN      NaN        NaN   \n",
            "3  someone else     NaN  ...       NaN      NaN      NaN      NaN        NaN   \n",
            "4  someone else     NaN  ...       NaN      NaN      NaN      NaN        NaN   \n",
            "\n",
            "   wtssnrps_nea  wtssps_next wtssnrps_next wtsscomp wtsscompnr  \n",
            "0           NaN          NaN           NaN   0.4446        NaN  \n",
            "1           NaN          NaN           NaN   0.8893        NaN  \n",
            "2           NaN          NaN           NaN   0.8893        NaN  \n",
            "3           NaN          NaN           NaN   0.8893        NaN  \n",
            "4           NaN          NaN           NaN   0.8893        NaN  \n",
            "\n",
            "[5 rows x 6694 columns]\n",
            "https://github.com/DS3001/project_gss/raw/main/gss_chunk_2.parquet\n",
            "   year   id            wrkstat  hrs1  hrs2 evwork    occ  prestige  \\\n",
            "0  1989  775            retired   NaN   NaN    yes  540.0      36.0   \n",
            "1  1989  776  working full time  40.0   NaN    NaN  925.0      36.0   \n",
            "2  1989  777            retired   NaN   NaN    yes   80.0      61.0   \n",
            "3  1989  778  working full time  44.0   NaN    NaN  912.0      26.0   \n",
            "4  1989  779            retired   NaN   NaN    yes  690.0      32.0   \n",
            "\n",
            "         wrkslf wrkgovt  ...  agehef12 agehef13 agehef14  hompoph wtssps_nea  \\\n",
            "0  someone else     NaN  ...       NaN      NaN      NaN      NaN        NaN   \n",
            "1  someone else     NaN  ...       NaN      NaN      NaN      NaN        NaN   \n",
            "2  someone else     NaN  ...       NaN      NaN      NaN      NaN        NaN   \n",
            "3  someone else     NaN  ...       NaN      NaN      NaN      NaN        NaN   \n",
            "4  someone else     NaN  ...       NaN      NaN      NaN      NaN        NaN   \n",
            "\n",
            "   wtssnrps_nea  wtssps_next wtssnrps_next  wtsscomp wtsscompnr  \n",
            "0           NaN          NaN           NaN  1.295069        NaN  \n",
            "1           NaN          NaN           NaN  0.483624        NaN  \n",
            "2           NaN          NaN           NaN  0.407988        NaN  \n",
            "3           NaN          NaN           NaN  1.225988        NaN  \n",
            "4           NaN          NaN           NaN  0.504302        NaN  \n",
            "\n",
            "[5 rows x 6694 columns]\n",
            "https://github.com/DS3001/project_gss/raw/main/gss_chunk_3.parquet\n",
            "   year    id            wrkstat  hrs1  hrs2 evwork  occ  prestige  \\\n",
            "0  2006  1751  working full time  40.0   NaN    NaN  NaN       NaN   \n",
            "1  2006  1752          in school   NaN   NaN    yes  NaN       NaN   \n",
            "2  2006  1753  working full time  35.0   NaN    NaN  NaN       NaN   \n",
            "3  2006  1754  working full time  50.0   NaN    NaN  NaN       NaN   \n",
            "4  2006  1755  working full time  40.0   NaN    NaN  NaN       NaN   \n",
            "\n",
            "         wrkslf     wrkgovt  ...  agehef12 agehef13 agehef14  hompoph  \\\n",
            "0  someone else  government  ...       NaN      NaN      NaN      NaN   \n",
            "1  someone else     private  ...       NaN      NaN      NaN      NaN   \n",
            "2  someone else  government  ...       NaN      NaN      NaN      NaN   \n",
            "3  someone else  government  ...       NaN      NaN      NaN      NaN   \n",
            "4  someone else     private  ...       NaN      NaN      NaN      NaN   \n",
            "\n",
            "  wtssps_nea  wtssnrps_nea  wtssps_next wtssnrps_next  wtsscomp wtsscompnr  \n",
            "0        NaN           NaN          NaN           NaN  1.079141   0.961150  \n",
            "1        NaN           NaN          NaN           NaN  7.673834   6.641571  \n",
            "2        NaN           NaN          NaN           NaN  0.584663   0.512145  \n",
            "3        NaN           NaN          NaN           NaN  0.715731   0.637592  \n",
            "4        NaN           NaN          NaN           NaN  1.094831   0.956094  \n",
            "\n",
            "[5 rows x 6694 columns]\n"
          ]
        }
      ]
    },
    {
      "cell_type": "code",
      "source": [
        "df = pd.read_csv('selected_gss_data.csv')\n",
        "df.tail(10)"
      ],
      "metadata": {
        "colab": {
          "base_uri": "https://localhost:8080/",
          "height": 974
        },
        "id": "1oD3jYyNbxCU",
        "outputId": "9a831a75-eccf-48c2-f362-0a7c4b2b8282"
      },
      "execution_count": 143,
      "outputs": [
        {
          "output_type": "stream",
          "name": "stderr",
          "text": [
            "<ipython-input-143-31e905523f48>:1: DtypeWarning: Columns (2,7,8,11,12) have mixed types. Specify dtype option on import or set low_memory=False.\n",
            "  df = pd.read_csv('selected_gss_data.csv')\n"
          ]
        },
        {
          "output_type": "execute_result",
          "data": {
            "text/plain": [
              "                 wrkstat                                         occ10  \\\n",
              "72382            retired  automotive service technicians and mechanics   \n",
              "72383            retired         elementary and middle school teachers   \n",
              "72384            retired                      architects, except naval   \n",
              "72385            retired                                         cooks   \n",
              "72386            retired            miscellaneous agricultural workers   \n",
              "72387  working full time          hotel, motel, and resort desk clerks   \n",
              "72388  working full time         elementary and middle school teachers   \n",
              "72389  working full time                        respiratory therapists   \n",
              "72390  working full time         elementary and middle school teachers   \n",
              "72391  working full time               forest and conservation workers   \n",
              "\n",
              "      prestige                                           whatslf2  \\\n",
              "72382      NaN                                                NaN   \n",
              "72383      NaN                                                NaN   \n",
              "72384      NaN                                                NaN   \n",
              "72385      NaN                                                NaN   \n",
              "72386      NaN                                                NaN   \n",
              "72387      NaN  other (agriculture, construction, service, gov...   \n",
              "72388      NaN  other (agriculture, construction, service, gov...   \n",
              "72389      NaN  other (agriculture, construction, service, gov...   \n",
              "72390      NaN  other (agriculture, construction, service, gov...   \n",
              "72391      NaN  other (agriculture, construction, service, gov...   \n",
              "\n",
              "             marital divorce                             martype sppres10  \\\n",
              "72382        married      no                                 NaN     38.0   \n",
              "72383        married     yes                                 NaN     61.0   \n",
              "72384       divorced     NaN                                 NaN      NaN   \n",
              "72385       divorced     NaN                                 NaN      NaN   \n",
              "72386        widowed      no                                 NaN      NaN   \n",
              "72387  never married     NaN                                 NaN      NaN   \n",
              "72388        married     yes                                 NaN     60.0   \n",
              "72389  never married     NaN                                 NaN     64.0   \n",
              "72390        married      no  marriage between a man and a woman     65.0   \n",
              "72391        married      no  marriage between a man and a woman     38.0   \n",
              "\n",
              "      prestg10                                        spocc10        hapmar  \\\n",
              "72382     45.0  insurance claims and policy processing clerks    very happy   \n",
              "72383     61.0          elementary and middle school teachers    very happy   \n",
              "72384     73.0                                            NaN           NaN   \n",
              "72385     33.0                                            NaN           NaN   \n",
              "72386     27.0                                            NaN           NaN   \n",
              "72387     30.0                                            NaN           NaN   \n",
              "72388     61.0           police and sheriff's patrol officers    very happy   \n",
              "72389     62.0                                            NaN           NaN   \n",
              "72390     61.0                                civil engineers    very happy   \n",
              "72391     42.0                 other teachers and instructors  pretty happy   \n",
              "\n",
              "        age  educ     sex              income16              income  \n",
              "72382  69.0  14.0    male   $90,000 to $109,999     $25,000 or more  \n",
              "72383  66.0  17.0    male    $40,000 to $49,999     $25,000 or more  \n",
              "72384  78.0  16.0    male    $50,000 to $59,999     $25,000 or more  \n",
              "72385  73.0   9.0    male    $10,000 to $12,499  $10,000 to $14,999  \n",
              "72386  84.0  12.0  female    $20,000 to $22,499  $20,000 to $24,999  \n",
              "72387  22.0  12.0  female    $25,000 to $29,999     $25,000 or more  \n",
              "72388  29.0  19.0  female    $60,000 to $74,999     $25,000 or more  \n",
              "72389  32.0  15.0    male  $130,000 to $149,999     $25,000 or more  \n",
              "72390  49.0  17.0  female  $150,000 to $169,999     $25,000 or more  \n",
              "72391  50.0  20.0    male   $90,000 to $109,999     $25,000 or more  "
            ],
            "text/html": [
              "\n",
              "  <div id=\"df-26682892-f1c8-45c8-8ac7-de34551c1b06\" class=\"colab-df-container\">\n",
              "    <div>\n",
              "<style scoped>\n",
              "    .dataframe tbody tr th:only-of-type {\n",
              "        vertical-align: middle;\n",
              "    }\n",
              "\n",
              "    .dataframe tbody tr th {\n",
              "        vertical-align: top;\n",
              "    }\n",
              "\n",
              "    .dataframe thead th {\n",
              "        text-align: right;\n",
              "    }\n",
              "</style>\n",
              "<table border=\"1\" class=\"dataframe\">\n",
              "  <thead>\n",
              "    <tr style=\"text-align: right;\">\n",
              "      <th></th>\n",
              "      <th>wrkstat</th>\n",
              "      <th>occ10</th>\n",
              "      <th>prestige</th>\n",
              "      <th>whatslf2</th>\n",
              "      <th>marital</th>\n",
              "      <th>divorce</th>\n",
              "      <th>martype</th>\n",
              "      <th>sppres10</th>\n",
              "      <th>prestg10</th>\n",
              "      <th>spocc10</th>\n",
              "      <th>hapmar</th>\n",
              "      <th>age</th>\n",
              "      <th>educ</th>\n",
              "      <th>sex</th>\n",
              "      <th>income16</th>\n",
              "      <th>income</th>\n",
              "    </tr>\n",
              "  </thead>\n",
              "  <tbody>\n",
              "    <tr>\n",
              "      <th>72382</th>\n",
              "      <td>retired</td>\n",
              "      <td>automotive service technicians and mechanics</td>\n",
              "      <td>NaN</td>\n",
              "      <td>NaN</td>\n",
              "      <td>married</td>\n",
              "      <td>no</td>\n",
              "      <td>NaN</td>\n",
              "      <td>38.0</td>\n",
              "      <td>45.0</td>\n",
              "      <td>insurance claims and policy processing clerks</td>\n",
              "      <td>very happy</td>\n",
              "      <td>69.0</td>\n",
              "      <td>14.0</td>\n",
              "      <td>male</td>\n",
              "      <td>$90,000 to $109,999</td>\n",
              "      <td>$25,000 or more</td>\n",
              "    </tr>\n",
              "    <tr>\n",
              "      <th>72383</th>\n",
              "      <td>retired</td>\n",
              "      <td>elementary and middle school teachers</td>\n",
              "      <td>NaN</td>\n",
              "      <td>NaN</td>\n",
              "      <td>married</td>\n",
              "      <td>yes</td>\n",
              "      <td>NaN</td>\n",
              "      <td>61.0</td>\n",
              "      <td>61.0</td>\n",
              "      <td>elementary and middle school teachers</td>\n",
              "      <td>very happy</td>\n",
              "      <td>66.0</td>\n",
              "      <td>17.0</td>\n",
              "      <td>male</td>\n",
              "      <td>$40,000 to $49,999</td>\n",
              "      <td>$25,000 or more</td>\n",
              "    </tr>\n",
              "    <tr>\n",
              "      <th>72384</th>\n",
              "      <td>retired</td>\n",
              "      <td>architects, except naval</td>\n",
              "      <td>NaN</td>\n",
              "      <td>NaN</td>\n",
              "      <td>divorced</td>\n",
              "      <td>NaN</td>\n",
              "      <td>NaN</td>\n",
              "      <td>NaN</td>\n",
              "      <td>73.0</td>\n",
              "      <td>NaN</td>\n",
              "      <td>NaN</td>\n",
              "      <td>78.0</td>\n",
              "      <td>16.0</td>\n",
              "      <td>male</td>\n",
              "      <td>$50,000 to $59,999</td>\n",
              "      <td>$25,000 or more</td>\n",
              "    </tr>\n",
              "    <tr>\n",
              "      <th>72385</th>\n",
              "      <td>retired</td>\n",
              "      <td>cooks</td>\n",
              "      <td>NaN</td>\n",
              "      <td>NaN</td>\n",
              "      <td>divorced</td>\n",
              "      <td>NaN</td>\n",
              "      <td>NaN</td>\n",
              "      <td>NaN</td>\n",
              "      <td>33.0</td>\n",
              "      <td>NaN</td>\n",
              "      <td>NaN</td>\n",
              "      <td>73.0</td>\n",
              "      <td>9.0</td>\n",
              "      <td>male</td>\n",
              "      <td>$10,000 to $12,499</td>\n",
              "      <td>$10,000 to $14,999</td>\n",
              "    </tr>\n",
              "    <tr>\n",
              "      <th>72386</th>\n",
              "      <td>retired</td>\n",
              "      <td>miscellaneous agricultural workers</td>\n",
              "      <td>NaN</td>\n",
              "      <td>NaN</td>\n",
              "      <td>widowed</td>\n",
              "      <td>no</td>\n",
              "      <td>NaN</td>\n",
              "      <td>NaN</td>\n",
              "      <td>27.0</td>\n",
              "      <td>NaN</td>\n",
              "      <td>NaN</td>\n",
              "      <td>84.0</td>\n",
              "      <td>12.0</td>\n",
              "      <td>female</td>\n",
              "      <td>$20,000 to $22,499</td>\n",
              "      <td>$20,000 to $24,999</td>\n",
              "    </tr>\n",
              "    <tr>\n",
              "      <th>72387</th>\n",
              "      <td>working full time</td>\n",
              "      <td>hotel, motel, and resort desk clerks</td>\n",
              "      <td>NaN</td>\n",
              "      <td>other (agriculture, construction, service, gov...</td>\n",
              "      <td>never married</td>\n",
              "      <td>NaN</td>\n",
              "      <td>NaN</td>\n",
              "      <td>NaN</td>\n",
              "      <td>30.0</td>\n",
              "      <td>NaN</td>\n",
              "      <td>NaN</td>\n",
              "      <td>22.0</td>\n",
              "      <td>12.0</td>\n",
              "      <td>female</td>\n",
              "      <td>$25,000 to $29,999</td>\n",
              "      <td>$25,000 or more</td>\n",
              "    </tr>\n",
              "    <tr>\n",
              "      <th>72388</th>\n",
              "      <td>working full time</td>\n",
              "      <td>elementary and middle school teachers</td>\n",
              "      <td>NaN</td>\n",
              "      <td>other (agriculture, construction, service, gov...</td>\n",
              "      <td>married</td>\n",
              "      <td>yes</td>\n",
              "      <td>NaN</td>\n",
              "      <td>60.0</td>\n",
              "      <td>61.0</td>\n",
              "      <td>police and sheriff's patrol officers</td>\n",
              "      <td>very happy</td>\n",
              "      <td>29.0</td>\n",
              "      <td>19.0</td>\n",
              "      <td>female</td>\n",
              "      <td>$60,000 to $74,999</td>\n",
              "      <td>$25,000 or more</td>\n",
              "    </tr>\n",
              "    <tr>\n",
              "      <th>72389</th>\n",
              "      <td>working full time</td>\n",
              "      <td>respiratory therapists</td>\n",
              "      <td>NaN</td>\n",
              "      <td>other (agriculture, construction, service, gov...</td>\n",
              "      <td>never married</td>\n",
              "      <td>NaN</td>\n",
              "      <td>NaN</td>\n",
              "      <td>64.0</td>\n",
              "      <td>62.0</td>\n",
              "      <td>NaN</td>\n",
              "      <td>NaN</td>\n",
              "      <td>32.0</td>\n",
              "      <td>15.0</td>\n",
              "      <td>male</td>\n",
              "      <td>$130,000 to $149,999</td>\n",
              "      <td>$25,000 or more</td>\n",
              "    </tr>\n",
              "    <tr>\n",
              "      <th>72390</th>\n",
              "      <td>working full time</td>\n",
              "      <td>elementary and middle school teachers</td>\n",
              "      <td>NaN</td>\n",
              "      <td>other (agriculture, construction, service, gov...</td>\n",
              "      <td>married</td>\n",
              "      <td>no</td>\n",
              "      <td>marriage between a man and a woman</td>\n",
              "      <td>65.0</td>\n",
              "      <td>61.0</td>\n",
              "      <td>civil engineers</td>\n",
              "      <td>very happy</td>\n",
              "      <td>49.0</td>\n",
              "      <td>17.0</td>\n",
              "      <td>female</td>\n",
              "      <td>$150,000 to $169,999</td>\n",
              "      <td>$25,000 or more</td>\n",
              "    </tr>\n",
              "    <tr>\n",
              "      <th>72391</th>\n",
              "      <td>working full time</td>\n",
              "      <td>forest and conservation workers</td>\n",
              "      <td>NaN</td>\n",
              "      <td>other (agriculture, construction, service, gov...</td>\n",
              "      <td>married</td>\n",
              "      <td>no</td>\n",
              "      <td>marriage between a man and a woman</td>\n",
              "      <td>38.0</td>\n",
              "      <td>42.0</td>\n",
              "      <td>other teachers and instructors</td>\n",
              "      <td>pretty happy</td>\n",
              "      <td>50.0</td>\n",
              "      <td>20.0</td>\n",
              "      <td>male</td>\n",
              "      <td>$90,000 to $109,999</td>\n",
              "      <td>$25,000 or more</td>\n",
              "    </tr>\n",
              "  </tbody>\n",
              "</table>\n",
              "</div>\n",
              "    <div class=\"colab-df-buttons\">\n",
              "\n",
              "  <div class=\"colab-df-container\">\n",
              "    <button class=\"colab-df-convert\" onclick=\"convertToInteractive('df-26682892-f1c8-45c8-8ac7-de34551c1b06')\"\n",
              "            title=\"Convert this dataframe to an interactive table.\"\n",
              "            style=\"display:none;\">\n",
              "\n",
              "  <svg xmlns=\"http://www.w3.org/2000/svg\" height=\"24px\" viewBox=\"0 -960 960 960\">\n",
              "    <path d=\"M120-120v-720h720v720H120Zm60-500h600v-160H180v160Zm220 220h160v-160H400v160Zm0 220h160v-160H400v160ZM180-400h160v-160H180v160Zm440 0h160v-160H620v160ZM180-180h160v-160H180v160Zm440 0h160v-160H620v160Z\"/>\n",
              "  </svg>\n",
              "    </button>\n",
              "\n",
              "  <style>\n",
              "    .colab-df-container {\n",
              "      display:flex;\n",
              "      gap: 12px;\n",
              "    }\n",
              "\n",
              "    .colab-df-convert {\n",
              "      background-color: #E8F0FE;\n",
              "      border: none;\n",
              "      border-radius: 50%;\n",
              "      cursor: pointer;\n",
              "      display: none;\n",
              "      fill: #1967D2;\n",
              "      height: 32px;\n",
              "      padding: 0 0 0 0;\n",
              "      width: 32px;\n",
              "    }\n",
              "\n",
              "    .colab-df-convert:hover {\n",
              "      background-color: #E2EBFA;\n",
              "      box-shadow: 0px 1px 2px rgba(60, 64, 67, 0.3), 0px 1px 3px 1px rgba(60, 64, 67, 0.15);\n",
              "      fill: #174EA6;\n",
              "    }\n",
              "\n",
              "    .colab-df-buttons div {\n",
              "      margin-bottom: 4px;\n",
              "    }\n",
              "\n",
              "    [theme=dark] .colab-df-convert {\n",
              "      background-color: #3B4455;\n",
              "      fill: #D2E3FC;\n",
              "    }\n",
              "\n",
              "    [theme=dark] .colab-df-convert:hover {\n",
              "      background-color: #434B5C;\n",
              "      box-shadow: 0px 1px 3px 1px rgba(0, 0, 0, 0.15);\n",
              "      filter: drop-shadow(0px 1px 2px rgba(0, 0, 0, 0.3));\n",
              "      fill: #FFFFFF;\n",
              "    }\n",
              "  </style>\n",
              "\n",
              "    <script>\n",
              "      const buttonEl =\n",
              "        document.querySelector('#df-26682892-f1c8-45c8-8ac7-de34551c1b06 button.colab-df-convert');\n",
              "      buttonEl.style.display =\n",
              "        google.colab.kernel.accessAllowed ? 'block' : 'none';\n",
              "\n",
              "      async function convertToInteractive(key) {\n",
              "        const element = document.querySelector('#df-26682892-f1c8-45c8-8ac7-de34551c1b06');\n",
              "        const dataTable =\n",
              "          await google.colab.kernel.invokeFunction('convertToInteractive',\n",
              "                                                    [key], {});\n",
              "        if (!dataTable) return;\n",
              "\n",
              "        const docLinkHtml = 'Like what you see? Visit the ' +\n",
              "          '<a target=\"_blank\" href=https://colab.research.google.com/notebooks/data_table.ipynb>data table notebook</a>'\n",
              "          + ' to learn more about interactive tables.';\n",
              "        element.innerHTML = '';\n",
              "        dataTable['output_type'] = 'display_data';\n",
              "        await google.colab.output.renderOutput(dataTable, element);\n",
              "        const docLink = document.createElement('div');\n",
              "        docLink.innerHTML = docLinkHtml;\n",
              "        element.appendChild(docLink);\n",
              "      }\n",
              "    </script>\n",
              "  </div>\n",
              "\n",
              "\n",
              "<div id=\"df-18a607c9-5cb8-4bc7-846c-e05ac0467838\">\n",
              "  <button class=\"colab-df-quickchart\" onclick=\"quickchart('df-18a607c9-5cb8-4bc7-846c-e05ac0467838')\"\n",
              "            title=\"Suggest charts\"\n",
              "            style=\"display:none;\">\n",
              "\n",
              "<svg xmlns=\"http://www.w3.org/2000/svg\" height=\"24px\"viewBox=\"0 0 24 24\"\n",
              "     width=\"24px\">\n",
              "    <g>\n",
              "        <path d=\"M19 3H5c-1.1 0-2 .9-2 2v14c0 1.1.9 2 2 2h14c1.1 0 2-.9 2-2V5c0-1.1-.9-2-2-2zM9 17H7v-7h2v7zm4 0h-2V7h2v10zm4 0h-2v-4h2v4z\"/>\n",
              "    </g>\n",
              "</svg>\n",
              "  </button>\n",
              "\n",
              "<style>\n",
              "  .colab-df-quickchart {\n",
              "      --bg-color: #E8F0FE;\n",
              "      --fill-color: #1967D2;\n",
              "      --hover-bg-color: #E2EBFA;\n",
              "      --hover-fill-color: #174EA6;\n",
              "      --disabled-fill-color: #AAA;\n",
              "      --disabled-bg-color: #DDD;\n",
              "  }\n",
              "\n",
              "  [theme=dark] .colab-df-quickchart {\n",
              "      --bg-color: #3B4455;\n",
              "      --fill-color: #D2E3FC;\n",
              "      --hover-bg-color: #434B5C;\n",
              "      --hover-fill-color: #FFFFFF;\n",
              "      --disabled-bg-color: #3B4455;\n",
              "      --disabled-fill-color: #666;\n",
              "  }\n",
              "\n",
              "  .colab-df-quickchart {\n",
              "    background-color: var(--bg-color);\n",
              "    border: none;\n",
              "    border-radius: 50%;\n",
              "    cursor: pointer;\n",
              "    display: none;\n",
              "    fill: var(--fill-color);\n",
              "    height: 32px;\n",
              "    padding: 0;\n",
              "    width: 32px;\n",
              "  }\n",
              "\n",
              "  .colab-df-quickchart:hover {\n",
              "    background-color: var(--hover-bg-color);\n",
              "    box-shadow: 0 1px 2px rgba(60, 64, 67, 0.3), 0 1px 3px 1px rgba(60, 64, 67, 0.15);\n",
              "    fill: var(--button-hover-fill-color);\n",
              "  }\n",
              "\n",
              "  .colab-df-quickchart-complete:disabled,\n",
              "  .colab-df-quickchart-complete:disabled:hover {\n",
              "    background-color: var(--disabled-bg-color);\n",
              "    fill: var(--disabled-fill-color);\n",
              "    box-shadow: none;\n",
              "  }\n",
              "\n",
              "  .colab-df-spinner {\n",
              "    border: 2px solid var(--fill-color);\n",
              "    border-color: transparent;\n",
              "    border-bottom-color: var(--fill-color);\n",
              "    animation:\n",
              "      spin 1s steps(1) infinite;\n",
              "  }\n",
              "\n",
              "  @keyframes spin {\n",
              "    0% {\n",
              "      border-color: transparent;\n",
              "      border-bottom-color: var(--fill-color);\n",
              "      border-left-color: var(--fill-color);\n",
              "    }\n",
              "    20% {\n",
              "      border-color: transparent;\n",
              "      border-left-color: var(--fill-color);\n",
              "      border-top-color: var(--fill-color);\n",
              "    }\n",
              "    30% {\n",
              "      border-color: transparent;\n",
              "      border-left-color: var(--fill-color);\n",
              "      border-top-color: var(--fill-color);\n",
              "      border-right-color: var(--fill-color);\n",
              "    }\n",
              "    40% {\n",
              "      border-color: transparent;\n",
              "      border-right-color: var(--fill-color);\n",
              "      border-top-color: var(--fill-color);\n",
              "    }\n",
              "    60% {\n",
              "      border-color: transparent;\n",
              "      border-right-color: var(--fill-color);\n",
              "    }\n",
              "    80% {\n",
              "      border-color: transparent;\n",
              "      border-right-color: var(--fill-color);\n",
              "      border-bottom-color: var(--fill-color);\n",
              "    }\n",
              "    90% {\n",
              "      border-color: transparent;\n",
              "      border-bottom-color: var(--fill-color);\n",
              "    }\n",
              "  }\n",
              "</style>\n",
              "\n",
              "  <script>\n",
              "    async function quickchart(key) {\n",
              "      const quickchartButtonEl =\n",
              "        document.querySelector('#' + key + ' button');\n",
              "      quickchartButtonEl.disabled = true;  // To prevent multiple clicks.\n",
              "      quickchartButtonEl.classList.add('colab-df-spinner');\n",
              "      try {\n",
              "        const charts = await google.colab.kernel.invokeFunction(\n",
              "            'suggestCharts', [key], {});\n",
              "      } catch (error) {\n",
              "        console.error('Error during call to suggestCharts:', error);\n",
              "      }\n",
              "      quickchartButtonEl.classList.remove('colab-df-spinner');\n",
              "      quickchartButtonEl.classList.add('colab-df-quickchart-complete');\n",
              "    }\n",
              "    (() => {\n",
              "      let quickchartButtonEl =\n",
              "        document.querySelector('#df-18a607c9-5cb8-4bc7-846c-e05ac0467838 button');\n",
              "      quickchartButtonEl.style.display =\n",
              "        google.colab.kernel.accessAllowed ? 'block' : 'none';\n",
              "    })();\n",
              "  </script>\n",
              "</div>\n",
              "    </div>\n",
              "  </div>\n"
            ],
            "application/vnd.google.colaboratory.intrinsic+json": {
              "type": "dataframe",
              "repr_error": "0"
            }
          },
          "metadata": {},
          "execution_count": 143
        }
      ]
    },
    {
      "cell_type": "code",
      "source": [
        "df.shape, '\\n'"
      ],
      "metadata": {
        "colab": {
          "base_uri": "https://localhost:8080/"
        },
        "id": "0yXoXt1rcY-c",
        "outputId": "587722ff-57c0-47da-ba30-ad80a9643235"
      },
      "execution_count": 87,
      "outputs": [
        {
          "output_type": "execute_result",
          "data": {
            "text/plain": [
              "((72392, 16), '\\n')"
            ]
          },
          "metadata": {},
          "execution_count": 87
        }
      ]
    },
    {
      "cell_type": "code",
      "source": [
        "df.dtypes"
      ],
      "metadata": {
        "colab": {
          "base_uri": "https://localhost:8080/"
        },
        "id": "YKzvOg1dezlD",
        "outputId": "fe2a6453-a9b1-4bca-fbeb-269ad183e5c2"
      },
      "execution_count": 88,
      "outputs": [
        {
          "output_type": "execute_result",
          "data": {
            "text/plain": [
              "wrkstat     object\n",
              "occ10       object\n",
              "prestige    object\n",
              "whatslf2    object\n",
              "marital     object\n",
              "divorce     object\n",
              "martype     object\n",
              "sppres10    object\n",
              "prestg10    object\n",
              "spocc10     object\n",
              "hapmar      object\n",
              "age         object\n",
              "educ        object\n",
              "sex         object\n",
              "income16    object\n",
              "income      object\n",
              "dtype: object"
            ]
          },
          "metadata": {},
          "execution_count": 88
        }
      ]
    },
    {
      "cell_type": "code",
      "source": [
        "sppres10 = df['sppres10']\n",
        "prestige = df['prestige']\n",
        "prestg10 = df['prestg10']\n",
        "income16 = df['income16']\n",
        "income = df['income']\n",
        "wrkstat = df['wrkstat']\n",
        "occ10 = df['occ10']\n",
        "whatslf2 = df['whatslf2']\n",
        "marital = df['marital']\n",
        "divorce = df['divorce']\n",
        "martype = df['martype']\n",
        "spocc10 = df['spocc10']\n",
        "hapmar = df['hapmar']\n",
        "age = df['age']\n",
        "educ = df['educ']\n",
        "sex = df['sex']"
      ],
      "metadata": {
        "id": "XJhfFjFzfGFL"
      },
      "execution_count": 104,
      "outputs": []
    },
    {
      "cell_type": "code",
      "source": [
        "missing_sppres10_count = sppres10.isna().sum()\n",
        "missing_prestige_count = prestige.isna().sum()\n",
        "missing_prestg10_count = prestg10.isna().sum()\n",
        "missing_income16_count = income16.isna().sum()\n",
        "missing_income_count = income.isna().sum()\n",
        "missing_wrkstat_count = wrkstat.isna().sum()\n",
        "missing_occ10_count = occ10.isna().sum()\n",
        "missing_whatslf2_count = whatslf2.isna().sum()\n",
        "missing_marital_count = marital.isna().sum()\n",
        "missing_divorce_count = divorce.isna().sum()\n",
        "missing_martype_count = martype.isna().sum()\n",
        "missing_spocc10_count = spocc10.isna().sum()\n",
        "missing_hapmar_count = hapmar.isna().sum()\n",
        "missing_age_count = age.isna().sum()\n",
        "missing_educ_count = educ.isna().sum()\n",
        "missing_sex_count = sex.isna().sum()"
      ],
      "metadata": {
        "id": "kAjTA3QVnJq8"
      },
      "execution_count": 105,
      "outputs": []
    },
    {
      "cell_type": "code",
      "source": [
        "row_count = len(df)\n",
        "\n",
        "percent_sppres10 = (missing_sppres10_count / row_count) * 100\n",
        "print(percent_sppres10, \"% of the sppres10 rows are NaN\")\n",
        "\n",
        "percent_prestige = (missing_prestige_count / row_count) * 100\n",
        "print(percent_prestige, \"% of the prestige rows are NaN\")\n",
        "\n",
        "percent_prestg10 = (missing_prestg10_count / row_count) * 100\n",
        "print(percent_prestg10, \"% of the prestg10 rows are NaN\")\n",
        "\n",
        "percent_income16 = (missing_income16_count / row_count) * 100\n",
        "print(percent_income16, \"% of the income16 rows are NaN\")\n",
        "\n",
        "percent_income = (missing_income_count / row_count) * 100\n",
        "print(percent_income, \"% of the income rows are NaN\")\n",
        "\n",
        "percent_wrkstat = (missing_wrkstat_count / row_count) * 100\n",
        "print(percent_wrkstat, \"% of the wrkstat rows are NaN\")\n",
        "\n",
        "percent_occ10 = (missing_occ10_count / row_count) * 100\n",
        "print(percent_occ10, \"% of the occ10 rows are NaN\")\n",
        "\n",
        "percent_whatslf2 = (missing_whatslf2_count / row_count) * 100\n",
        "print(percent_whatslf2, \"% of the whatslf2 rows are NaN\")\n",
        "\n",
        "percent_marital = (missing_marital_count / row_count) * 100\n",
        "print(percent_marital, \"% of the marital rows are NaN\")\n",
        "\n",
        "percent_divorce = (missing_divorce_count / row_count) * 100\n",
        "print(percent_divorce, \"% of the divorce rows are NaN\")\n",
        "\n",
        "percent_martype = (missing_martype_count / row_count) * 100\n",
        "print(percent_martype, \"% of the martype rows are NaN\")\n",
        "\n",
        "percent_spocc10 = (missing_spocc10_count / row_count) * 100\n",
        "print(percent_spocc10, \"% of the spocc10 rows are NaN\")\n",
        "\n",
        "percent_hapmar = (missing_hapmar_count / row_count) * 100\n",
        "print(percent_hapmar, \"% of the hapmar rows are NaN\")\n",
        "\n",
        "percent_age = (missing_age_count / row_count) * 100\n",
        "print(percent_age, \"% of the age rows are NaN\")\n",
        "\n",
        "percent_educ = (missing_educ_count / row_count) * 100\n",
        "print(percent_educ, \"% of the educ rows are NaN\")\n",
        "\n",
        "percent_sex = (missing_sex_count / row_count) * 100\n",
        "print(percent_sex, \"% of the sex rows are NaN\")"
      ],
      "metadata": {
        "colab": {
          "base_uri": "https://localhost:8080/"
        },
        "id": "JtR_pzuQnTbI",
        "outputId": "feca03ed-c5cd-453a-b954-ac2fdec008d1"
      },
      "execution_count": 107,
      "outputs": [
        {
          "output_type": "stream",
          "name": "stdout",
          "text": [
            "51.93805945408333 % of the sppres10 rows are NaN\n",
            "66.47557741186871 % of the prestige rows are NaN\n",
            "7.102994806055918 % of the prestg10 rows are NaN\n",
            "84.29522599182229 % of the income16 rows are NaN\n",
            "12.36462592551663 % of the income rows are NaN\n",
            "0.04972925185103326 % of the wrkstat rows are NaN\n",
            "7.097469333628024 % of the occ10 rows are NaN\n",
            "96.97894795004973 % of the whatslf2 rows are NaN\n",
            "0.07044977345563046 % of the marital rows are NaN\n",
            "39.073378273842415 % of the divorce rows are NaN\n",
            "92.9881754890043 % of the martype rows are NaN\n",
            "52.31241021107304 % of the spocc10 rows are NaN\n",
            "53.03210299480605 % of the hapmar rows are NaN\n",
            "1.0622720742623495 % of the age rows are NaN\n",
            "0.36329981213393747 % of the educ rows are NaN\n",
            "0.15471322798099238 % of the sex rows are NaN\n"
          ]
        }
      ]
    },
    {
      "cell_type": "markdown",
      "source": [
        "Variables to use:\n",
        "- prestg10 -- respondent's job prestige\n",
        "- income -- family income\n",
        "- wkrstat -- work status last week\n",
        "- occ10 -- respondent's occupation\n",
        "- marital -- marital status\n",
        "- age -- respondent's age\n",
        "- educ -- respondent's education\n",
        "- sex -- respondent's sex\n",
        "- POTENTIALLY: spocc10 (respondent's spouse's occupation), sppres10 (respondent's spouse's occupation prestige), hapmar (marriage happiness)\n"
      ],
      "metadata": {
        "id": "VmMwi8D3oFqN"
      }
    },
    {
      "cell_type": "code",
      "source": [
        "df['sppres10'] = pd.to_numeric(df['sppres10'], errors = 'coerce')\n",
        "df['prestige'] = pd.to_numeric(df['prestige'], errors = 'coerce')\n",
        "df['age'] = pd.to_numeric(df['age'], errors = 'coerce')\n",
        "df['educ'] = pd.to_numeric(df['educ'], errors = 'coerce')"
      ],
      "metadata": {
        "id": "2IprJkwKsyYf"
      },
      "execution_count": 144,
      "outputs": []
    },
    {
      "cell_type": "code",
      "source": [
        "df.dtypes"
      ],
      "metadata": {
        "colab": {
          "base_uri": "https://localhost:8080/"
        },
        "id": "41Ux3uV6to-e",
        "outputId": "515fea8d-c8ff-4aca-f81e-4f37de7008af"
      },
      "execution_count": 145,
      "outputs": [
        {
          "output_type": "execute_result",
          "data": {
            "text/plain": [
              "wrkstat      object\n",
              "occ10        object\n",
              "prestige    float64\n",
              "whatslf2     object\n",
              "marital      object\n",
              "divorce      object\n",
              "martype      object\n",
              "sppres10    float64\n",
              "prestg10     object\n",
              "spocc10      object\n",
              "hapmar       object\n",
              "age         float64\n",
              "educ        float64\n",
              "sex          object\n",
              "income16     object\n",
              "income       object\n",
              "dtype: object"
            ]
          },
          "metadata": {},
          "execution_count": 145
        }
      ]
    },
    {
      "cell_type": "code",
      "source": [
        "wrkstat.value_counts(), '\\n'"
      ],
      "metadata": {
        "colab": {
          "base_uri": "https://localhost:8080/"
        },
        "id": "L98xKd_nvo7c",
        "outputId": "bcdcb4d6-51e7-46c2-c364-0b43e28a21e2"
      },
      "execution_count": 146,
      "outputs": [
        {
          "output_type": "execute_result",
          "data": {
            "text/plain": [
              "(working full time                                                             35267\n",
              " retired                                                                       10886\n",
              " keeping house                                                                 10764\n",
              " working part time                                                              7430\n",
              " unemployed, laid off, looking for work                                         2621\n",
              " in school                                                                      2187\n",
              " other                                                                          1643\n",
              " with a job, but not at work because of temporary illness, vacation, strike     1556\n",
              " wrkstat                                                                           2\n",
              " Name: wrkstat, dtype: int64,\n",
              " '\\n')"
            ]
          },
          "metadata": {},
          "execution_count": 146
        }
      ]
    },
    {
      "cell_type": "code",
      "source": [
        "occ10.value_counts(), '\\n'"
      ],
      "metadata": {
        "colab": {
          "base_uri": "https://localhost:8080/"
        },
        "id": "Lq60Rze6vvXs",
        "outputId": "58e957de-a45f-4203-a738-4f6628f2375a"
      },
      "execution_count": 147,
      "outputs": [
        {
          "output_type": "execute_result",
          "data": {
            "text/plain": [
              "(secretaries and administrative assistants                                                     2727\n",
              " retail salespersons                                                                           1515\n",
              " elementary and middle school teachers                                                         1475\n",
              " nursing, psychiatric, and home health aides                                                   1386\n",
              " driver/sales workers and truck drivers                                                        1324\n",
              "                                                                                               ... \n",
              " nuclear technicians                                                                              1\n",
              " signal and track switch repairers                                                                1\n",
              " transit and railroad police                                                                      1\n",
              " extruding and forming machine setters, operators, and tenders,  synthetic and glass fibers       1\n",
              " hunters and trappers                                                                             1\n",
              " Name: occ10, Length: 534, dtype: int64,\n",
              " '\\n')"
            ]
          },
          "metadata": {},
          "execution_count": 147
        }
      ]
    },
    {
      "cell_type": "code",
      "source": [
        "whatslf2.value_counts(), '\\n'"
      ],
      "metadata": {
        "colab": {
          "base_uri": "https://localhost:8080/"
        },
        "id": "SveOXnBxv1J9",
        "outputId": "7c3bcf4f-f867-4693-c49f-07084b35354b"
      },
      "execution_count": 149,
      "outputs": [
        {
          "output_type": "execute_result",
          "data": {
            "text/plain": [
              "(other (agriculture, construction, service, government, etc.)    1612\n",
              " retail trade                                                     283\n",
              " manufacturing                                                    228\n",
              " wholesale trade                                                   62\n",
              " whatslf2                                                           2\n",
              " Name: whatslf2, dtype: int64,\n",
              " '\\n')"
            ]
          },
          "metadata": {},
          "execution_count": 149
        }
      ]
    },
    {
      "cell_type": "code",
      "source": [
        "marital.value_counts(), '\\n'"
      ],
      "metadata": {
        "colab": {
          "base_uri": "https://localhost:8080/"
        },
        "id": "2LISiKdVv6pz",
        "outputId": "d998046e-b85f-4638-8d97-09cf7f514669"
      },
      "execution_count": 150,
      "outputs": [
        {
          "output_type": "execute_result",
          "data": {
            "text/plain": [
              "(married          37590\n",
              " never married    15910\n",
              " divorced          9642\n",
              " widowed           6756\n",
              " separated         2441\n",
              " marital              2\n",
              " Name: marital, dtype: int64,\n",
              " '\\n')"
            ]
          },
          "metadata": {},
          "execution_count": 150
        }
      ]
    },
    {
      "cell_type": "code",
      "source": [
        "divorce.value_counts(), '\\n'"
      ],
      "metadata": {
        "colab": {
          "base_uri": "https://localhost:8080/"
        },
        "id": "PMT9WpbTv9AF",
        "outputId": "9d771417-fa7d-4330-eac3-ef95fbbf5db9"
      },
      "execution_count": 151,
      "outputs": [
        {
          "output_type": "execute_result",
          "data": {
            "text/plain": [
              "(no         34738\n",
              " yes         9366\n",
              " divorce        2\n",
              " Name: divorce, dtype: int64,\n",
              " '\\n')"
            ]
          },
          "metadata": {},
          "execution_count": 151
        }
      ]
    },
    {
      "cell_type": "code",
      "source": [
        "martype.value_counts(), '\\n'"
      ],
      "metadata": {
        "colab": {
          "base_uri": "https://localhost:8080/"
        },
        "id": "E-mSRF9Uv_LW",
        "outputId": "3b799a00-e57c-44e7-99c0-b97d1544eac6"
      },
      "execution_count": 152,
      "outputs": [
        {
          "output_type": "execute_result",
          "data": {
            "text/plain": [
              "(marriage between a man and a woman                4999\n",
              " not sure                                            39\n",
              " marriage between two people of the same gender      36\n",
              " martype                                              2\n",
              " Name: martype, dtype: int64,\n",
              " '\\n')"
            ]
          },
          "metadata": {},
          "execution_count": 152
        }
      ]
    },
    {
      "cell_type": "code",
      "source": [
        "spocc10.value_counts(), '\\n'"
      ],
      "metadata": {
        "colab": {
          "base_uri": "https://localhost:8080/"
        },
        "id": "t-nXW59xwCLh",
        "outputId": "acc68d4e-f4e0-4f59-f253-61c5d79373cc"
      },
      "execution_count": 154,
      "outputs": [
        {
          "output_type": "execute_result",
          "data": {
            "text/plain": [
              "(secretaries and administrative assistants         1389\n",
              " driver/sales workers and truck drivers             915\n",
              " elementary and middle school teachers              822\n",
              " retail salespersons                                774\n",
              " first-line supervisors of retail sales workers     747\n",
              "                                                   ... \n",
              " marine engineers and naval architects                1\n",
              " hoist and winch operators                            1\n",
              " motion picture projectionists                        1\n",
              " other transportation workers                         1\n",
              " agricultural engineers                               1\n",
              " Name: spocc10, Length: 533, dtype: int64,\n",
              " '\\n')"
            ]
          },
          "metadata": {},
          "execution_count": 154
        }
      ]
    },
    {
      "cell_type": "code",
      "source": [
        "hapmar.value_counts(), '\\n'"
      ],
      "metadata": {
        "colab": {
          "base_uri": "https://localhost:8080/"
        },
        "id": "JGEv4PR7wIiU",
        "outputId": "d0140910-09ba-433b-8982-9d42dfa60ee7"
      },
      "execution_count": 155,
      "outputs": [
        {
          "output_type": "execute_result",
          "data": {
            "text/plain": [
              "(very happy       21427\n",
              " pretty happy     11506\n",
              " not too happy     1066\n",
              " hapmar               2\n",
              " Name: hapmar, dtype: int64,\n",
              " '\\n')"
            ]
          },
          "metadata": {},
          "execution_count": 155
        }
      ]
    },
    {
      "cell_type": "code",
      "source": [
        "sex.value_counts(), '\\n'"
      ],
      "metadata": {
        "colab": {
          "base_uri": "https://localhost:8080/"
        },
        "id": "yijJwHTtwLXn",
        "outputId": "d42e8360-471f-47a0-b8e1-aea8e7f4e138"
      },
      "execution_count": 158,
      "outputs": [
        {
          "output_type": "execute_result",
          "data": {
            "text/plain": [
              "(female    40301\n",
              " male      31977\n",
              " sex           2\n",
              " Name: sex, dtype: int64,\n",
              " '\\n')"
            ]
          },
          "metadata": {},
          "execution_count": 158
        }
      ]
    },
    {
      "cell_type": "code",
      "source": [
        "income16.value_counts(), '\\n'"
      ],
      "metadata": {
        "colab": {
          "base_uri": "https://localhost:8080/"
        },
        "id": "DnBM1o6nwQV1",
        "outputId": "f1952ab1-9b23-4235-b7b8-bced28d6f39e"
      },
      "execution_count": 159,
      "outputs": [
        {
          "output_type": "execute_result",
          "data": {
            "text/plain": [
              "($60,000 to $74,999      1144\n",
              " $170,000 or over        1037\n",
              " $75,000 to $89,999       935\n",
              " $90,000 to $109,999      899\n",
              " $50,000 to $59,999       886\n",
              " $40,000 to $49,999       854\n",
              " $110,000 to $129,999     630\n",
              " $30,000 to $34,999       564\n",
              " $35,000 to $39,999       515\n",
              " $130,000 to $149,999     464\n",
              " $25,000 to $29,999       455\n",
              " $150,000 to $169,999     370\n",
              " $10,000 to $12,499       349\n",
              " $22,500 to $24,999       347\n",
              " $20,000 to $22,499       332\n",
              " $12,500 to $14,999       304\n",
              " $15,000 to $17,499       247\n",
              " $17,500 to $19,999       219\n",
              " $8,000 to $9,999         183\n",
              " under $1,000             172\n",
              " $1,000 to $2,999         145\n",
              " $3,000 to $3,999          80\n",
              " $7,000 to $7,999          70\n",
              " $5,000 to $5,999          67\n",
              " $6,000 to $6,999          50\n",
              " $4,000 to $4,999          49\n",
              " income16                   2\n",
              " Name: income16, dtype: int64,\n",
              " '\\n')"
            ]
          },
          "metadata": {},
          "execution_count": 159
        }
      ]
    },
    {
      "cell_type": "code",
      "source": [
        "income.value_counts(), '\\n'"
      ],
      "metadata": {
        "colab": {
          "base_uri": "https://localhost:8080/"
        },
        "id": "JecSeA1xwTr1",
        "outputId": "98a8a61c-1bdf-4a64-9c8b-be849aeb1bdf"
      },
      "execution_count": 160,
      "outputs": [
        {
          "output_type": "execute_result",
          "data": {
            "text/plain": [
              "($25,000 or more       34785\n",
              " $10,000 to $14,999     6850\n",
              " $20,000 to $24,999     5528\n",
              " $15,000 to $19,999     5301\n",
              " $8,000 to $9,999       2285\n",
              " $1,000 to $2,999       1412\n",
              " $7,000 to $7,999       1315\n",
              " $5,000 to $5,999       1314\n",
              " $3,000 to $3,999       1309\n",
              " $6,000 to $6,999       1249\n",
              " $4,000 to $4,999       1189\n",
              " under $1,000            902\n",
              " income                    2\n",
              " Name: income, dtype: int64,\n",
              " '\\n')"
            ]
          },
          "metadata": {},
          "execution_count": 160
        }
      ]
    },
    {
      "cell_type": "markdown",
      "source": [
        "<font size=\"5\">**WRANGLING DOCUMENTATION**</font>\n",
        "\n",
        "Write notes about steps taken to wrangle the data here:\n",
        "\n",
        "1. DtypeWarning -- several columns have mixed types, and all columns are objects, which should not be the case\n",
        "-- Changed numerical data columns to float64 dtypes"
      ],
      "metadata": {
        "id": "Ri9EqtYDdT_b"
      }
    }
  ]
}